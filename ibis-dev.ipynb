{
 "cells": [
  {
   "cell_type": "code",
   "execution_count": null,
   "metadata": {},
   "outputs": [],
   "source": [
    "import ibis\n",
    "\n",
    "from ibis_bench.queries.ibis import *  # noqa\n",
    "from ibis_bench.utils.read_data import get_ibis_tables\n",
    "\n",
    "# YOLO\n",
    "import warnings\n",
    "\n",
    "warnings.filterwarnings(\"ignore\")"
   ]
  },
  {
   "cell_type": "code",
   "execution_count": null,
   "metadata": {},
   "outputs": [],
   "source": [
    "ibis.options.interactive = True"
   ]
  },
  {
   "cell_type": "code",
   "execution_count": null,
   "metadata": {},
   "outputs": [],
   "source": [
    "backend = \"duckdb\"\n",
    "con = ibis.connect(f\"{backend}://\")"
   ]
  },
  {
   "cell_type": "code",
   "execution_count": null,
   "metadata": {},
   "outputs": [],
   "source": [
    "sf = 10\n",
    "n_partitions = 1\n",
    "\n",
    "customer, lineitem, nation, orders, part, partsupp, region, supplier = get_ibis_tables(\n",
    "    sf=sf, n_partitions=n_partitions, con=con\n",
    ")"
   ]
  },
  {
   "cell_type": "code",
   "execution_count": null,
   "metadata": {},
   "outputs": [],
   "source": [
    "res = q7(\n",
    "    customer=customer,\n",
    "    lineitem=lineitem,\n",
    "    nation=nation,\n",
    "    orders=orders,\n",
    "    part=part,\n",
    "    partsupp=partsupp,\n",
    "    region=region,\n",
    "    supplier=supplier,\n",
    ")\n",
    "res"
   ]
  }
 ],
 "metadata": {
  "kernelspec": {
   "display_name": "venv",
   "language": "python",
   "name": "python3"
  },
  "language_info": {
   "codemirror_mode": {
    "name": "ipython",
    "version": 3
   },
   "file_extension": ".py",
   "mimetype": "text/x-python",
   "name": "python",
   "nbconvert_exporter": "python",
   "pygments_lexer": "ipython3",
   "version": "3.11.8"
  }
 },
 "nbformat": 4,
 "nbformat_minor": 2
}
