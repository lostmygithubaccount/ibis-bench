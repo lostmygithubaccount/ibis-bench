{
 "cells": [
  {
   "cell_type": "code",
   "execution_count": null,
   "metadata": {},
   "outputs": [],
   "source": [
    "import ibis\n",
    "\n",
    "from ibis_bench.queries.ibis import *  # noqa\n",
    "from ibis_bench.utils.read_data import get_ibis_tables"
   ]
  },
  {
   "cell_type": "code",
   "execution_count": null,
   "metadata": {},
   "outputs": [],
   "source": [
    "ibis.options.interactive = True"
   ]
  },
  {
   "cell_type": "code",
   "execution_count": null,
   "metadata": {},
   "outputs": [],
   "source": [
    "backend = \"polars\"\n",
    "con = ibis.connect(f\"{backend}://\")"
   ]
  },
  {
   "cell_type": "code",
   "execution_count": null,
   "metadata": {},
   "outputs": [],
   "source": [
    "sf = 8\n",
    "n_partitions = 1\n",
    "csv = False\n",
    "\n",
    "customer, lineitem, nation, orders, part, partsupp, region, supplier = get_ibis_tables(\n",
    "    sf=sf, n_partitions=n_partitions, con=con, csv=csv\n",
    ")"
   ]
  },
  {
   "cell_type": "code",
   "execution_count": null,
   "metadata": {},
   "outputs": [],
   "source": [
    "res = q1(\n",
    "    customer=customer,\n",
    "    lineitem=lineitem,\n",
    "    nation=nation,\n",
    "    orders=orders,\n",
    "    part=part,\n",
    "    partsupp=partsupp,\n",
    "    region=region,\n",
    "    supplier=supplier,\n",
    ")\n",
    "res"
   ]
  },
  {
   "cell_type": "code",
   "execution_count": null,
   "metadata": {},
   "outputs": [],
   "source": [
    "res.schema()"
   ]
  },
  {
   "cell_type": "code",
   "execution_count": null,
   "metadata": {},
   "outputs": [],
   "source": [
    "import sqlglot\n",
    "\n",
    "sql = res.compile()\n",
    "sql = sqlglot.transpile(sql, \"datafusion\", \"datafusion\", pretty=True)[0]\n",
    "print(sql)"
   ]
  },
  {
   "cell_type": "code",
   "execution_count": null,
   "metadata": {},
   "outputs": [],
   "source": [
    "res = q21(\n",
    "    customer=customer,\n",
    "    lineitem=lineitem,\n",
    "    nation=nation,\n",
    "    orders=orders,\n",
    "    part=part,\n",
    "    partsupp=partsupp,\n",
    "    region=region,\n",
    "    supplier=supplier,\n",
    ")"
   ]
  },
  {
   "cell_type": "code",
   "execution_count": null,
   "metadata": {},
   "outputs": [],
   "source": [
    "import sqlglot\n",
    "\n",
    "sql = res.compile()\n",
    "sql = sqlglot.transpile(sql, \"datafusion\", \"datafusion\", pretty=True)[0]\n",
    "print(sql)"
   ]
  },
  {
   "cell_type": "code",
   "execution_count": null,
   "metadata": {},
   "outputs": [],
   "source": [
    "res = q22(\n",
    "    customer=customer,\n",
    "    lineitem=lineitem,\n",
    "    nation=nation,\n",
    "    orders=orders,\n",
    "    part=part,\n",
    "    partsupp=partsupp,\n",
    "    region=region,\n",
    "    supplier=supplier,\n",
    ")\n",
    "res"
   ]
  },
  {
   "cell_type": "code",
   "execution_count": null,
   "metadata": {},
   "outputs": [],
   "source": [
    "import sqlglot\n",
    "\n",
    "sql = res.compile()\n",
    "sql = sqlglot.transpile(sql, \"datafusion\", \"datafusion\", pretty=True)[0]\n",
    "print(sql)"
   ]
  },
  {
   "cell_type": "code",
   "execution_count": null,
   "metadata": {},
   "outputs": [],
   "source": []
  }
 ],
 "metadata": {
  "kernelspec": {
   "display_name": "venv",
   "language": "python",
   "name": "python3"
  },
  "language_info": {
   "codemirror_mode": {
    "name": "ipython",
    "version": 3
   },
   "file_extension": ".py",
   "mimetype": "text/x-python",
   "name": "python",
   "nbconvert_exporter": "python",
   "pygments_lexer": "ipython3",
   "version": "3.11.8"
  }
 },
 "nbformat": 4,
 "nbformat_minor": 2
}
