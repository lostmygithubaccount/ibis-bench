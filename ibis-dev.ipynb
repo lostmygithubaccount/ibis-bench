{
 "cells": [
  {
   "cell_type": "markdown",
   "metadata": {},
   "source": [
    "original Ibis TPC-H code: https://github.com/ibis-project/ibis/tree/main/ibis/backends/tests/tpch"
   ]
  },
  {
   "cell_type": "code",
   "execution_count": null,
   "metadata": {},
   "outputs": [],
   "source": [
    "import ibis\n",
    "import uuid\n",
    "\n",
    "from ibis_bench.utils.monitor import monitor_it\n",
    "from ibis_bench.utils.read_data import get_ibis_tables\n",
    "\n",
    "from ibis_bench.queries.ibis import *  # noqa"
   ]
  },
  {
   "cell_type": "code",
   "execution_count": null,
   "metadata": {},
   "outputs": [],
   "source": [
    "# YOLO\n",
    "import warnings\n",
    "\n",
    "warnings.filterwarnings(\"ignore\")"
   ]
  },
  {
   "cell_type": "code",
   "execution_count": null,
   "metadata": {},
   "outputs": [],
   "source": [
    "backend = \"datafusion\"\n",
    "con = ibis.connect(f\"{backend}://\")"
   ]
  },
  {
   "cell_type": "code",
   "execution_count": null,
   "metadata": {},
   "outputs": [],
   "source": [
    "sf = 1\n",
    "n_partitions = 1\n",
    "\n",
    "customer, lineitem, nation, orders, part, partsupp, region, supplier = get_ibis_tables(\n",
    "    sf=sf, n_partitions=n_partitions, con=con\n",
    ")"
   ]
  },
  {
   "cell_type": "code",
   "execution_count": null,
   "metadata": {},
   "outputs": [],
   "source": [
    "monitor_it(\n",
    "    q1,\n",
    "    sf=sf,\n",
    "    n_partitions=n_partitions,\n",
    "    query_number=1,\n",
    "    system=f\"ibis-{backend}\",\n",
    "    session_id=str(uuid.uuid4()),\n",
    "    lineitem=lineitem,\n",
    ")"
   ]
  },
  {
   "cell_type": "code",
   "execution_count": null,
   "metadata": {},
   "outputs": [],
   "source": [
    "monitor_it(\n",
    "    q2,\n",
    "    sf=sf,\n",
    "    n_partitions=n_partitions,\n",
    "    query_number=2,\n",
    "    system=f\"ibis-{backend}\",\n",
    "    session_id=str(uuid.uuid4()),\n",
    "    nation=nation,\n",
    "    part=part,\n",
    "    partsupp=partsupp,\n",
    "    region=region,\n",
    "    supplier=supplier,\n",
    ")"
   ]
  },
  {
   "cell_type": "code",
   "execution_count": null,
   "metadata": {},
   "outputs": [],
   "source": []
  }
 ],
 "metadata": {
  "kernelspec": {
   "display_name": "venv",
   "language": "python",
   "name": "python3"
  },
  "language_info": {
   "codemirror_mode": {
    "name": "ipython",
    "version": 3
   },
   "file_extension": ".py",
   "mimetype": "text/x-python",
   "name": "python",
   "nbconvert_exporter": "python",
   "pygments_lexer": "ipython3",
   "version": "3.11.8"
  }
 },
 "nbformat": 4,
 "nbformat_minor": 2
}
