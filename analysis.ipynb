{
 "cells": [
  {
   "cell_type": "code",
   "execution_count": 1,
   "metadata": {},
   "outputs": [],
   "source": [
    "import ibis\n",
    "import gcsfs\n",
    "\n",
    "from ibis_bench.utils.monitor import get_timings_dir\n",
    "\n",
    "ibis.options.interactive = True\n",
    "ibis.options.repr.interactive.max_rows = 20\n",
    "ibis.options.repr.interactive.max_columns = None"
   ]
  },
  {
   "cell_type": "code",
   "execution_count": 2,
   "metadata": {},
   "outputs": [],
   "source": [
    "# YOLO\n",
    "import warnings\n",
    "\n",
    "warnings.filterwarnings(\"ignore\")"
   ]
  },
  {
   "cell_type": "code",
   "execution_count": 3,
   "metadata": {},
   "outputs": [
    {
     "data": {
      "text/plain": [
       "['ibis-benchy/benchy_logs_v2/d53be7c2-3b19-46d9-95e5-0d53d7b48171.json',\n",
       " 'ibis-benchy/benchy_logs_v2/dd136bd6-8384-4f4f-884e-50317b18a61d.json',\n",
       " 'ibis-benchy/benchy_logs_v2/e55be847-7ea4-4b40-9ca7-380363a5ac13.json',\n",
       " 'ibis-benchy/benchy_logs_v2/e75e7e09-046a-436d-904d-d5ca4e69fd02.json',\n",
       " 'ibis-benchy/benchy_logs_v2/f74cda0c-33cd-4d38-b009-08d431faab86.json']"
      ]
     },
     "execution_count": 3,
     "metadata": {},
     "output_type": "execute_result"
    }
   ],
   "source": [
    "PROJECT = \"voltrondata-demo\"\n",
    "BUCKET = \"ibis-benchy\"\n",
    "\n",
    "fs = gcsfs.GCSFileSystem(project=PROJECT)\n",
    "fs.ls(f\"{BUCKET}/{get_timings_dir()}\")[-5:]"
   ]
  },
  {
   "cell_type": "code",
   "execution_count": 4,
   "metadata": {},
   "outputs": [],
   "source": [
    "con = ibis.connect(\"duckdb://\")\n",
    "con.register_filesystem(fs)"
   ]
  },
  {
   "cell_type": "code",
   "execution_count": 5,
   "metadata": {},
   "outputs": [
    {
     "data": {
      "text/html": [
       "<pre style=\"white-space:pre;overflow-x:auto;line-height:normal;font-family:Menlo,'DejaVu Sans Mono',consolas,'Courier New',monospace\">┏━━━━━━━━━━━━━━━━━━━━━━━━━━━━━━━━━━━━━━┳━━━━━━━━━━━━━━━━━┳━━━━━━━━━━━━━━━━━━━━━━━━━━━━┳━━━━━━━┳━━━━━━━━━━━━━━┳━━━━━━━━━━━━━━┳━━━━━━━━━━━━━━━━━━━┳━━━━━━━━━━━━━━━┳━━━━━━━━━━━━━┓\n",
       "┃<span style=\"font-weight: bold\"> session_id                           </span>┃<span style=\"font-weight: bold\"> system          </span>┃<span style=\"font-weight: bold\"> timestamp                  </span>┃<span style=\"font-weight: bold\"> sf    </span>┃<span style=\"font-weight: bold\"> n_partitions </span>┃<span style=\"font-weight: bold\"> query_number </span>┃<span style=\"font-weight: bold\"> execution_seconds </span>┃<span style=\"font-weight: bold\"> peak_cpu      </span>┃<span style=\"font-weight: bold\"> peak_memory </span>┃\n",
       "┡━━━━━━━━━━━━━━━━━━━━━━━━━━━━━━━━━━━━━━╇━━━━━━━━━━━━━━━━━╇━━━━━━━━━━━━━━━━━━━━━━━━━━━━╇━━━━━━━╇━━━━━━━━━━━━━━╇━━━━━━━━━━━━━━╇━━━━━━━━━━━━━━━━━━━╇━━━━━━━━━━━━━━━╇━━━━━━━━━━━━━┩\n",
       "│ <span style=\"color: #7f7f7f; text-decoration-color: #7f7f7f\">uuid</span>                                 │ <span style=\"color: #7f7f7f; text-decoration-color: #7f7f7f\">string</span>          │ <span style=\"color: #7f7f7f; text-decoration-color: #7f7f7f\">timestamp(6)</span>               │ <span style=\"color: #7f7f7f; text-decoration-color: #7f7f7f\">int64</span> │ <span style=\"color: #7f7f7f; text-decoration-color: #7f7f7f\">int64</span>        │ <span style=\"color: #7f7f7f; text-decoration-color: #7f7f7f\">int64</span>        │ <span style=\"color: #7f7f7f; text-decoration-color: #7f7f7f\">float64</span>           │ <span style=\"color: #7f7f7f; text-decoration-color: #7f7f7f\">float64</span>       │ <span style=\"color: #7f7f7f; text-decoration-color: #7f7f7f\">float64</span>     │\n",
       "├──────────────────────────────────────┼─────────────────┼────────────────────────────┼───────┼──────────────┼──────────────┼───────────────────┼───────────────┼─────────────┤\n",
       "│ 245480c9-2d7b-473a-a81c-a868c7325503 │ <span style=\"color: #008000; text-decoration-color: #008000\">ibis-polars    </span> │ <span style=\"color: #800080; text-decoration-color: #800080\">2024-06-01 01:21:12.864228</span> │   <span style=\"color: #008080; text-decoration-color: #008080; font-weight: bold\">100</span> │            <span style=\"color: #008080; text-decoration-color: #008080; font-weight: bold\">1</span> │            <span style=\"color: #008080; text-decoration-color: #008080; font-weight: bold\">1</span> │        <span style=\"color: #008080; text-decoration-color: #008080; font-weight: bold\">162.723401</span> │     <span style=\"color: #008080; text-decoration-color: #008080; font-weight: bold\">96.114019</span> │    <span style=\"color: #008080; text-decoration-color: #008080; font-weight: bold\">0.000284</span> │\n",
       "│ 245480c9-2d7b-473a-a81c-a868c7325503 │ <span style=\"color: #008000; text-decoration-color: #008000\">ibis-polars    </span> │ <span style=\"color: #800080; text-decoration-color: #800080\">2024-06-01 01:18:28.371871</span> │    <span style=\"color: #008080; text-decoration-color: #008080; font-weight: bold\">10</span> │            <span style=\"color: #008080; text-decoration-color: #008080; font-weight: bold\">1</span> │            <span style=\"color: #008080; text-decoration-color: #008080; font-weight: bold\">2</span> │          <span style=\"color: #008080; text-decoration-color: #008080; font-weight: bold\">0.992329</span> │  <span style=\"color: #008080; text-decoration-color: #008080; font-weight: bold\">13745.436307</span> │    <span style=\"color: #008080; text-decoration-color: #008080; font-weight: bold\">0.000692</span> │\n",
       "│ 40a7b0d9-cda4-4734-bb90-0a5b2536abcc │ <span style=\"color: #008000; text-decoration-color: #008000\">ibis-duckdb    </span> │ <span style=\"color: #800080; text-decoration-color: #800080\">2024-06-01 01:17:16.521537</span> │    <span style=\"color: #008080; text-decoration-color: #008080; font-weight: bold\">10</span> │            <span style=\"color: #008080; text-decoration-color: #008080; font-weight: bold\">1</span> │            <span style=\"color: #008080; text-decoration-color: #008080; font-weight: bold\">2</span> │          <span style=\"color: #008080; text-decoration-color: #008080; font-weight: bold\">1.106904</span> │  <span style=\"color: #008080; text-decoration-color: #008080; font-weight: bold\">12033.560970</span> │    <span style=\"color: #008080; text-decoration-color: #008080; font-weight: bold\">0.001241</span> │\n",
       "│ d3651099-13a8-440a-8216-e2245f73f0b6 │ <span style=\"color: #008000; text-decoration-color: #008000\">polars-lazy    </span> │ <span style=\"color: #800080; text-decoration-color: #800080\">2024-06-01 01:22:01.891880</span> │    <span style=\"color: #008080; text-decoration-color: #008080; font-weight: bold\">10</span> │            <span style=\"color: #008080; text-decoration-color: #008080; font-weight: bold\">1</span> │            <span style=\"color: #008080; text-decoration-color: #008080; font-weight: bold\">1</span> │          <span style=\"color: #008080; text-decoration-color: #008080; font-weight: bold\">2.468100</span> │  <span style=\"color: #008080; text-decoration-color: #008080; font-weight: bold\">21230.905755</span> │    <span style=\"color: #008080; text-decoration-color: #008080; font-weight: bold\">0.000006</span> │\n",
       "│ 7709c520-ce9e-4563-adc8-9872c0c7837d │ <span style=\"color: #008000; text-decoration-color: #008000\">ibis-duckdb    </span> │ <span style=\"color: #800080; text-decoration-color: #800080\">2024-06-01 01:43:08.303382</span> │     <span style=\"color: #008080; text-decoration-color: #008080; font-weight: bold\">8</span> │            <span style=\"color: #008080; text-decoration-color: #008080; font-weight: bold\">1</span> │            <span style=\"color: #008080; text-decoration-color: #008080; font-weight: bold\">1</span> │          <span style=\"color: #008080; text-decoration-color: #008080; font-weight: bold\">0.743626</span> │ <span style=\"color: #008080; text-decoration-color: #008080; font-weight: bold\">106747.226275</span> │    <span style=\"color: #008080; text-decoration-color: #008080; font-weight: bold\">0.000346</span> │\n",
       "│ 7709c520-ce9e-4563-adc8-9872c0c7837d │ <span style=\"color: #008000; text-decoration-color: #008000\">ibis-duckdb    </span> │ <span style=\"color: #800080; text-decoration-color: #800080\">2024-06-01 01:43:17.884621</span> │    <span style=\"color: #008080; text-decoration-color: #008080; font-weight: bold\">32</span> │            <span style=\"color: #008080; text-decoration-color: #008080; font-weight: bold\">1</span> │            <span style=\"color: #008080; text-decoration-color: #008080; font-weight: bold\">1</span> │          <span style=\"color: #008080; text-decoration-color: #008080; font-weight: bold\">2.738984</span> │  <span style=\"color: #008080; text-decoration-color: #008080; font-weight: bold\">30909.270249</span> │    <span style=\"color: #008080; text-decoration-color: #008080; font-weight: bold\">0.000169</span> │\n",
       "│ d3651099-13a8-440a-8216-e2245f73f0b6 │ <span style=\"color: #008000; text-decoration-color: #008000\">polars-lazy    </span> │ <span style=\"color: #800080; text-decoration-color: #800080\">2024-06-01 01:21:59.047134</span> │     <span style=\"color: #008080; text-decoration-color: #008080; font-weight: bold\">1</span> │            <span style=\"color: #008080; text-decoration-color: #008080; font-weight: bold\">1</span> │            <span style=\"color: #008080; text-decoration-color: #008080; font-weight: bold\">2</span> │          <span style=\"color: #008080; text-decoration-color: #008080; font-weight: bold\">0.048498</span> │ <span style=\"color: #008080; text-decoration-color: #008080; font-weight: bold\">420842.831846</span> │    <span style=\"color: #008080; text-decoration-color: #008080; font-weight: bold\">0.000004</span> │\n",
       "│ 7709c520-ce9e-4563-adc8-9872c0c7837d │ <span style=\"color: #008000; text-decoration-color: #008000\">ibis-duckdb    </span> │ <span style=\"color: #800080; text-decoration-color: #800080\">2024-06-01 01:43:14.420332</span> │    <span style=\"color: #008080; text-decoration-color: #008080; font-weight: bold\">16</span> │            <span style=\"color: #008080; text-decoration-color: #008080; font-weight: bold\">1</span> │            <span style=\"color: #008080; text-decoration-color: #008080; font-weight: bold\">2</span> │          <span style=\"color: #008080; text-decoration-color: #008080; font-weight: bold\">1.160468</span> │  <span style=\"color: #008080; text-decoration-color: #008080; font-weight: bold\">14907.780345</span> │    <span style=\"color: #008080; text-decoration-color: #008080; font-weight: bold\">0.001241</span> │\n",
       "│ 3856c658-a39b-412c-9271-1c89c4743f31 │ <span style=\"color: #008000; text-decoration-color: #008000\">ibis-datafusion</span> │ <span style=\"color: #800080; text-decoration-color: #800080\">2024-06-01 01:17:48.541654</span> │    <span style=\"color: #008080; text-decoration-color: #008080; font-weight: bold\">10</span> │            <span style=\"color: #008080; text-decoration-color: #008080; font-weight: bold\">1</span> │            <span style=\"color: #008080; text-decoration-color: #008080; font-weight: bold\">2</span> │          <span style=\"color: #008080; text-decoration-color: #008080; font-weight: bold\">1.018333</span> │  <span style=\"color: #008080; text-decoration-color: #008080; font-weight: bold\">15054.015365</span> │    <span style=\"color: #008080; text-decoration-color: #008080; font-weight: bold\">0.001170</span> │\n",
       "│ 40a7b0d9-cda4-4734-bb90-0a5b2536abcc │ <span style=\"color: #008000; text-decoration-color: #008000\">ibis-duckdb    </span> │ <span style=\"color: #800080; text-decoration-color: #800080\">2024-06-01 01:17:10.704071</span> │     <span style=\"color: #008080; text-decoration-color: #008080; font-weight: bold\">1</span> │            <span style=\"color: #008080; text-decoration-color: #008080; font-weight: bold\">1</span> │            <span style=\"color: #008080; text-decoration-color: #008080; font-weight: bold\">1</span> │          <span style=\"color: #008080; text-decoration-color: #008080; font-weight: bold\">0.157612</span> │ <span style=\"color: #008080; text-decoration-color: #008080; font-weight: bold\">332589.212189</span> │    <span style=\"color: #008080; text-decoration-color: #008080; font-weight: bold\">0.000346</span> │\n",
       "│ 40a7b0d9-cda4-4734-bb90-0a5b2536abcc │ <span style=\"color: #008000; text-decoration-color: #008000\">ibis-duckdb    </span> │ <span style=\"color: #800080; text-decoration-color: #800080\">2024-06-01 01:17:15.099789</span> │    <span style=\"color: #008080; text-decoration-color: #008080; font-weight: bold\">10</span> │            <span style=\"color: #008080; text-decoration-color: #008080; font-weight: bold\">1</span> │            <span style=\"color: #008080; text-decoration-color: #008080; font-weight: bold\">1</span> │          <span style=\"color: #008080; text-decoration-color: #008080; font-weight: bold\">0.898457</span> │  <span style=\"color: #008080; text-decoration-color: #008080; font-weight: bold\">90889.152654</span> │    <span style=\"color: #008080; text-decoration-color: #008080; font-weight: bold\">0.000169</span> │\n",
       "│ 245480c9-2d7b-473a-a81c-a868c7325503 │ <span style=\"color: #008000; text-decoration-color: #008000\">ibis-polars    </span> │ <span style=\"color: #800080; text-decoration-color: #800080\">2024-06-01 01:18:27.081115</span> │    <span style=\"color: #008080; text-decoration-color: #008080; font-weight: bold\">10</span> │            <span style=\"color: #008080; text-decoration-color: #008080; font-weight: bold\">1</span> │            <span style=\"color: #008080; text-decoration-color: #008080; font-weight: bold\">1</span> │          <span style=\"color: #008080; text-decoration-color: #008080; font-weight: bold\">2.005881</span> │  <span style=\"color: #008080; text-decoration-color: #008080; font-weight: bold\">31218.201768</span> │    <span style=\"color: #008080; text-decoration-color: #008080; font-weight: bold\">0.000081</span> │\n",
       "│ d3651099-13a8-440a-8216-e2245f73f0b6 │ <span style=\"color: #008000; text-decoration-color: #008000\">polars-lazy    </span> │ <span style=\"color: #800080; text-decoration-color: #800080\">2024-06-01 01:24:26.631866</span> │   <span style=\"color: #008080; text-decoration-color: #008080; font-weight: bold\">100</span> │            <span style=\"color: #008080; text-decoration-color: #008080; font-weight: bold\">1</span> │            <span style=\"color: #008080; text-decoration-color: #008080; font-weight: bold\">1</span> │        <span style=\"color: #008080; text-decoration-color: #008080; font-weight: bold\">144.008452</span> │    <span style=\"color: #008080; text-decoration-color: #008080; font-weight: bold\">129.228526</span> │    <span style=\"color: #008080; text-decoration-color: #008080; font-weight: bold\">0.000249</span> │\n",
       "│ 245480c9-2d7b-473a-a81c-a868c7325503 │ <span style=\"color: #008000; text-decoration-color: #008000\">ibis-polars    </span> │ <span style=\"color: #800080; text-decoration-color: #800080\">2024-06-01 01:18:21.605979</span> │     <span style=\"color: #008080; text-decoration-color: #008080; font-weight: bold\">1</span> │            <span style=\"color: #008080; text-decoration-color: #008080; font-weight: bold\">1</span> │            <span style=\"color: #008080; text-decoration-color: #008080; font-weight: bold\">1</span> │          <span style=\"color: #008080; text-decoration-color: #008080; font-weight: bold\">0.280429</span> │ <span style=\"color: #008080; text-decoration-color: #008080; font-weight: bold\">160254.532173</span> │    <span style=\"color: #008080; text-decoration-color: #008080; font-weight: bold\">0.002115</span> │\n",
       "│ d3651099-13a8-440a-8216-e2245f73f0b6 │ <span style=\"color: #008000; text-decoration-color: #008000\">polars-lazy    </span> │ <span style=\"color: #800080; text-decoration-color: #800080\">2024-06-01 01:24:29.640294</span> │   <span style=\"color: #008080; text-decoration-color: #008080; font-weight: bold\">100</span> │            <span style=\"color: #008080; text-decoration-color: #008080; font-weight: bold\">1</span> │            <span style=\"color: #008080; text-decoration-color: #008080; font-weight: bold\">2</span> │          <span style=\"color: #008080; text-decoration-color: #008080; font-weight: bold\">2.429198</span> │  <span style=\"color: #008080; text-decoration-color: #008080; font-weight: bold\">10402.610130</span> │    <span style=\"color: #008080; text-decoration-color: #008080; font-weight: bold\">0.000004</span> │\n",
       "│ 3856c658-a39b-412c-9271-1c89c4743f31 │ <span style=\"color: #008000; text-decoration-color: #008000\">ibis-datafusion</span> │ <span style=\"color: #800080; text-decoration-color: #800080\">2024-06-01 01:17:58.464738</span> │   <span style=\"color: #008080; text-decoration-color: #008080; font-weight: bold\">100</span> │            <span style=\"color: #008080; text-decoration-color: #008080; font-weight: bold\">1</span> │            <span style=\"color: #008080; text-decoration-color: #008080; font-weight: bold\">1</span> │          <span style=\"color: #008080; text-decoration-color: #008080; font-weight: bold\">9.525200</span> │   <span style=\"color: #008080; text-decoration-color: #008080; font-weight: bold\">9418.174819</span> │    <span style=\"color: #008080; text-decoration-color: #008080; font-weight: bold\">0.000277</span> │\n",
       "│ 245480c9-2d7b-473a-a81c-a868c7325503 │ <span style=\"color: #008000; text-decoration-color: #008000\">ibis-polars    </span> │ <span style=\"color: #800080; text-decoration-color: #800080\">2024-06-01 01:18:24.685265</span> │     <span style=\"color: #008080; text-decoration-color: #008080; font-weight: bold\">1</span> │            <span style=\"color: #008080; text-decoration-color: #008080; font-weight: bold\">1</span> │            <span style=\"color: #008080; text-decoration-color: #008080; font-weight: bold\">2</span> │          <span style=\"color: #008080; text-decoration-color: #008080; font-weight: bold\">0.933135</span> │  <span style=\"color: #008080; text-decoration-color: #008080; font-weight: bold\">11348.842702</span> │    <span style=\"color: #008080; text-decoration-color: #008080; font-weight: bold\">0.000733</span> │\n",
       "│ 7709c520-ce9e-4563-adc8-9872c0c7837d │ <span style=\"color: #008000; text-decoration-color: #008000\">ibis-duckdb    </span> │ <span style=\"color: #800080; text-decoration-color: #800080\">2024-06-01 01:43:10.822048</span> │     <span style=\"color: #008080; text-decoration-color: #008080; font-weight: bold\">8</span> │            <span style=\"color: #008080; text-decoration-color: #008080; font-weight: bold\">1</span> │            <span style=\"color: #008080; text-decoration-color: #008080; font-weight: bold\">2</span> │          <span style=\"color: #008080; text-decoration-color: #008080; font-weight: bold\">1.107970</span> │  <span style=\"color: #008080; text-decoration-color: #008080; font-weight: bold\">12599.619131</span> │    <span style=\"color: #008080; text-decoration-color: #008080; font-weight: bold\">0.001258</span> │\n",
       "│ 40a7b0d9-cda4-4734-bb90-0a5b2536abcc │ <span style=\"color: #008000; text-decoration-color: #008000\">ibis-duckdb    </span> │ <span style=\"color: #800080; text-decoration-color: #800080\">2024-06-01 01:17:27.721885</span> │   <span style=\"color: #008080; text-decoration-color: #008080; font-weight: bold\">100</span> │            <span style=\"color: #008080; text-decoration-color: #008080; font-weight: bold\">1</span> │            <span style=\"color: #008080; text-decoration-color: #008080; font-weight: bold\">2</span> │          <span style=\"color: #008080; text-decoration-color: #008080; font-weight: bold\">1.650793</span> │  <span style=\"color: #008080; text-decoration-color: #008080; font-weight: bold\">19257.413338</span> │    <span style=\"color: #008080; text-decoration-color: #008080; font-weight: bold\">0.001321</span> │\n",
       "│ 245480c9-2d7b-473a-a81c-a868c7325503 │ <span style=\"color: #008000; text-decoration-color: #008000\">ibis-polars    </span> │ <span style=\"color: #800080; text-decoration-color: #800080\">2024-06-01 01:21:25.058097</span> │   <span style=\"color: #008080; text-decoration-color: #008080; font-weight: bold\">100</span> │            <span style=\"color: #008080; text-decoration-color: #008080; font-weight: bold\">1</span> │            <span style=\"color: #008080; text-decoration-color: #008080; font-weight: bold\">2</span> │         <span style=\"color: #008080; text-decoration-color: #008080; font-weight: bold\">11.598569</span> │   <span style=\"color: #008080; text-decoration-color: #008080; font-weight: bold\">1899.372255</span> │    <span style=\"color: #008080; text-decoration-color: #008080; font-weight: bold\">0.000692</span> │\n",
       "│ <span style=\"color: #7f7f7f; text-decoration-color: #7f7f7f\">…</span>                                    │ <span style=\"color: #7f7f7f; text-decoration-color: #7f7f7f\">…</span>               │ <span style=\"color: #7f7f7f; text-decoration-color: #7f7f7f\">…</span>                          │     <span style=\"color: #7f7f7f; text-decoration-color: #7f7f7f\">…</span> │            <span style=\"color: #7f7f7f; text-decoration-color: #7f7f7f\">…</span> │            <span style=\"color: #7f7f7f; text-decoration-color: #7f7f7f\">…</span> │                 <span style=\"color: #7f7f7f; text-decoration-color: #7f7f7f\">…</span> │             <span style=\"color: #7f7f7f; text-decoration-color: #7f7f7f\">…</span> │           <span style=\"color: #7f7f7f; text-decoration-color: #7f7f7f\">…</span> │\n",
       "└──────────────────────────────────────┴─────────────────┴────────────────────────────┴───────┴──────────────┴──────────────┴───────────────────┴───────────────┴─────────────┘\n",
       "</pre>\n"
      ],
      "text/plain": [
       "┏━━━━━━━━━━━━━━━━━━━━━━━━━━━━━━━━━━━━━━┳━━━━━━━━━━━━━━━━━┳━━━━━━━━━━━━━━━━━━━━━━━━━━━━┳━━━━━━━┳━━━━━━━━━━━━━━┳━━━━━━━━━━━━━━┳━━━━━━━━━━━━━━━━━━━┳━━━━━━━━━━━━━━━┳━━━━━━━━━━━━━┓\n",
       "┃\u001b[1m \u001b[0m\u001b[1msession_id\u001b[0m\u001b[1m                          \u001b[0m\u001b[1m \u001b[0m┃\u001b[1m \u001b[0m\u001b[1msystem\u001b[0m\u001b[1m         \u001b[0m\u001b[1m \u001b[0m┃\u001b[1m \u001b[0m\u001b[1mtimestamp\u001b[0m\u001b[1m                 \u001b[0m\u001b[1m \u001b[0m┃\u001b[1m \u001b[0m\u001b[1msf\u001b[0m\u001b[1m   \u001b[0m\u001b[1m \u001b[0m┃\u001b[1m \u001b[0m\u001b[1mn_partitions\u001b[0m\u001b[1m \u001b[0m┃\u001b[1m \u001b[0m\u001b[1mquery_number\u001b[0m\u001b[1m \u001b[0m┃\u001b[1m \u001b[0m\u001b[1mexecution_seconds\u001b[0m\u001b[1m \u001b[0m┃\u001b[1m \u001b[0m\u001b[1mpeak_cpu\u001b[0m\u001b[1m     \u001b[0m\u001b[1m \u001b[0m┃\u001b[1m \u001b[0m\u001b[1mpeak_memory\u001b[0m\u001b[1m \u001b[0m┃\n",
       "┡━━━━━━━━━━━━━━━━━━━━━━━━━━━━━━━━━━━━━━╇━━━━━━━━━━━━━━━━━╇━━━━━━━━━━━━━━━━━━━━━━━━━━━━╇━━━━━━━╇━━━━━━━━━━━━━━╇━━━━━━━━━━━━━━╇━━━━━━━━━━━━━━━━━━━╇━━━━━━━━━━━━━━━╇━━━━━━━━━━━━━┩\n",
       "│ \u001b[2muuid\u001b[0m                                 │ \u001b[2mstring\u001b[0m          │ \u001b[2mtimestamp(6)\u001b[0m               │ \u001b[2mint64\u001b[0m │ \u001b[2mint64\u001b[0m        │ \u001b[2mint64\u001b[0m        │ \u001b[2mfloat64\u001b[0m           │ \u001b[2mfloat64\u001b[0m       │ \u001b[2mfloat64\u001b[0m     │\n",
       "├──────────────────────────────────────┼─────────────────┼────────────────────────────┼───────┼──────────────┼──────────────┼───────────────────┼───────────────┼─────────────┤\n",
       "│ 245480c9-2d7b-473a-a81c-a868c7325503 │ \u001b[32mibis-polars    \u001b[0m │ \u001b[35m2024-06-01 01:21:12.864228\u001b[0m │   \u001b[1;36m100\u001b[0m │            \u001b[1;36m1\u001b[0m │            \u001b[1;36m1\u001b[0m │        \u001b[1;36m162.723401\u001b[0m │     \u001b[1;36m96.114019\u001b[0m │    \u001b[1;36m0.000284\u001b[0m │\n",
       "│ 245480c9-2d7b-473a-a81c-a868c7325503 │ \u001b[32mibis-polars    \u001b[0m │ \u001b[35m2024-06-01 01:18:28.371871\u001b[0m │    \u001b[1;36m10\u001b[0m │            \u001b[1;36m1\u001b[0m │            \u001b[1;36m2\u001b[0m │          \u001b[1;36m0.992329\u001b[0m │  \u001b[1;36m13745.436307\u001b[0m │    \u001b[1;36m0.000692\u001b[0m │\n",
       "│ 40a7b0d9-cda4-4734-bb90-0a5b2536abcc │ \u001b[32mibis-duckdb    \u001b[0m │ \u001b[35m2024-06-01 01:17:16.521537\u001b[0m │    \u001b[1;36m10\u001b[0m │            \u001b[1;36m1\u001b[0m │            \u001b[1;36m2\u001b[0m │          \u001b[1;36m1.106904\u001b[0m │  \u001b[1;36m12033.560970\u001b[0m │    \u001b[1;36m0.001241\u001b[0m │\n",
       "│ d3651099-13a8-440a-8216-e2245f73f0b6 │ \u001b[32mpolars-lazy    \u001b[0m │ \u001b[35m2024-06-01 01:22:01.891880\u001b[0m │    \u001b[1;36m10\u001b[0m │            \u001b[1;36m1\u001b[0m │            \u001b[1;36m1\u001b[0m │          \u001b[1;36m2.468100\u001b[0m │  \u001b[1;36m21230.905755\u001b[0m │    \u001b[1;36m0.000006\u001b[0m │\n",
       "│ 7709c520-ce9e-4563-adc8-9872c0c7837d │ \u001b[32mibis-duckdb    \u001b[0m │ \u001b[35m2024-06-01 01:43:08.303382\u001b[0m │     \u001b[1;36m8\u001b[0m │            \u001b[1;36m1\u001b[0m │            \u001b[1;36m1\u001b[0m │          \u001b[1;36m0.743626\u001b[0m │ \u001b[1;36m106747.226275\u001b[0m │    \u001b[1;36m0.000346\u001b[0m │\n",
       "│ 7709c520-ce9e-4563-adc8-9872c0c7837d │ \u001b[32mibis-duckdb    \u001b[0m │ \u001b[35m2024-06-01 01:43:17.884621\u001b[0m │    \u001b[1;36m32\u001b[0m │            \u001b[1;36m1\u001b[0m │            \u001b[1;36m1\u001b[0m │          \u001b[1;36m2.738984\u001b[0m │  \u001b[1;36m30909.270249\u001b[0m │    \u001b[1;36m0.000169\u001b[0m │\n",
       "│ d3651099-13a8-440a-8216-e2245f73f0b6 │ \u001b[32mpolars-lazy    \u001b[0m │ \u001b[35m2024-06-01 01:21:59.047134\u001b[0m │     \u001b[1;36m1\u001b[0m │            \u001b[1;36m1\u001b[0m │            \u001b[1;36m2\u001b[0m │          \u001b[1;36m0.048498\u001b[0m │ \u001b[1;36m420842.831846\u001b[0m │    \u001b[1;36m0.000004\u001b[0m │\n",
       "│ 7709c520-ce9e-4563-adc8-9872c0c7837d │ \u001b[32mibis-duckdb    \u001b[0m │ \u001b[35m2024-06-01 01:43:14.420332\u001b[0m │    \u001b[1;36m16\u001b[0m │            \u001b[1;36m1\u001b[0m │            \u001b[1;36m2\u001b[0m │          \u001b[1;36m1.160468\u001b[0m │  \u001b[1;36m14907.780345\u001b[0m │    \u001b[1;36m0.001241\u001b[0m │\n",
       "│ 3856c658-a39b-412c-9271-1c89c4743f31 │ \u001b[32mibis-datafusion\u001b[0m │ \u001b[35m2024-06-01 01:17:48.541654\u001b[0m │    \u001b[1;36m10\u001b[0m │            \u001b[1;36m1\u001b[0m │            \u001b[1;36m2\u001b[0m │          \u001b[1;36m1.018333\u001b[0m │  \u001b[1;36m15054.015365\u001b[0m │    \u001b[1;36m0.001170\u001b[0m │\n",
       "│ 40a7b0d9-cda4-4734-bb90-0a5b2536abcc │ \u001b[32mibis-duckdb    \u001b[0m │ \u001b[35m2024-06-01 01:17:10.704071\u001b[0m │     \u001b[1;36m1\u001b[0m │            \u001b[1;36m1\u001b[0m │            \u001b[1;36m1\u001b[0m │          \u001b[1;36m0.157612\u001b[0m │ \u001b[1;36m332589.212189\u001b[0m │    \u001b[1;36m0.000346\u001b[0m │\n",
       "│ 40a7b0d9-cda4-4734-bb90-0a5b2536abcc │ \u001b[32mibis-duckdb    \u001b[0m │ \u001b[35m2024-06-01 01:17:15.099789\u001b[0m │    \u001b[1;36m10\u001b[0m │            \u001b[1;36m1\u001b[0m │            \u001b[1;36m1\u001b[0m │          \u001b[1;36m0.898457\u001b[0m │  \u001b[1;36m90889.152654\u001b[0m │    \u001b[1;36m0.000169\u001b[0m │\n",
       "│ 245480c9-2d7b-473a-a81c-a868c7325503 │ \u001b[32mibis-polars    \u001b[0m │ \u001b[35m2024-06-01 01:18:27.081115\u001b[0m │    \u001b[1;36m10\u001b[0m │            \u001b[1;36m1\u001b[0m │            \u001b[1;36m1\u001b[0m │          \u001b[1;36m2.005881\u001b[0m │  \u001b[1;36m31218.201768\u001b[0m │    \u001b[1;36m0.000081\u001b[0m │\n",
       "│ d3651099-13a8-440a-8216-e2245f73f0b6 │ \u001b[32mpolars-lazy    \u001b[0m │ \u001b[35m2024-06-01 01:24:26.631866\u001b[0m │   \u001b[1;36m100\u001b[0m │            \u001b[1;36m1\u001b[0m │            \u001b[1;36m1\u001b[0m │        \u001b[1;36m144.008452\u001b[0m │    \u001b[1;36m129.228526\u001b[0m │    \u001b[1;36m0.000249\u001b[0m │\n",
       "│ 245480c9-2d7b-473a-a81c-a868c7325503 │ \u001b[32mibis-polars    \u001b[0m │ \u001b[35m2024-06-01 01:18:21.605979\u001b[0m │     \u001b[1;36m1\u001b[0m │            \u001b[1;36m1\u001b[0m │            \u001b[1;36m1\u001b[0m │          \u001b[1;36m0.280429\u001b[0m │ \u001b[1;36m160254.532173\u001b[0m │    \u001b[1;36m0.002115\u001b[0m │\n",
       "│ d3651099-13a8-440a-8216-e2245f73f0b6 │ \u001b[32mpolars-lazy    \u001b[0m │ \u001b[35m2024-06-01 01:24:29.640294\u001b[0m │   \u001b[1;36m100\u001b[0m │            \u001b[1;36m1\u001b[0m │            \u001b[1;36m2\u001b[0m │          \u001b[1;36m2.429198\u001b[0m │  \u001b[1;36m10402.610130\u001b[0m │    \u001b[1;36m0.000004\u001b[0m │\n",
       "│ 3856c658-a39b-412c-9271-1c89c4743f31 │ \u001b[32mibis-datafusion\u001b[0m │ \u001b[35m2024-06-01 01:17:58.464738\u001b[0m │   \u001b[1;36m100\u001b[0m │            \u001b[1;36m1\u001b[0m │            \u001b[1;36m1\u001b[0m │          \u001b[1;36m9.525200\u001b[0m │   \u001b[1;36m9418.174819\u001b[0m │    \u001b[1;36m0.000277\u001b[0m │\n",
       "│ 245480c9-2d7b-473a-a81c-a868c7325503 │ \u001b[32mibis-polars    \u001b[0m │ \u001b[35m2024-06-01 01:18:24.685265\u001b[0m │     \u001b[1;36m1\u001b[0m │            \u001b[1;36m1\u001b[0m │            \u001b[1;36m2\u001b[0m │          \u001b[1;36m0.933135\u001b[0m │  \u001b[1;36m11348.842702\u001b[0m │    \u001b[1;36m0.000733\u001b[0m │\n",
       "│ 7709c520-ce9e-4563-adc8-9872c0c7837d │ \u001b[32mibis-duckdb    \u001b[0m │ \u001b[35m2024-06-01 01:43:10.822048\u001b[0m │     \u001b[1;36m8\u001b[0m │            \u001b[1;36m1\u001b[0m │            \u001b[1;36m2\u001b[0m │          \u001b[1;36m1.107970\u001b[0m │  \u001b[1;36m12599.619131\u001b[0m │    \u001b[1;36m0.001258\u001b[0m │\n",
       "│ 40a7b0d9-cda4-4734-bb90-0a5b2536abcc │ \u001b[32mibis-duckdb    \u001b[0m │ \u001b[35m2024-06-01 01:17:27.721885\u001b[0m │   \u001b[1;36m100\u001b[0m │            \u001b[1;36m1\u001b[0m │            \u001b[1;36m2\u001b[0m │          \u001b[1;36m1.650793\u001b[0m │  \u001b[1;36m19257.413338\u001b[0m │    \u001b[1;36m0.001321\u001b[0m │\n",
       "│ 245480c9-2d7b-473a-a81c-a868c7325503 │ \u001b[32mibis-polars    \u001b[0m │ \u001b[35m2024-06-01 01:21:25.058097\u001b[0m │   \u001b[1;36m100\u001b[0m │            \u001b[1;36m1\u001b[0m │            \u001b[1;36m2\u001b[0m │         \u001b[1;36m11.598569\u001b[0m │   \u001b[1;36m1899.372255\u001b[0m │    \u001b[1;36m0.000692\u001b[0m │\n",
       "│ \u001b[2m…\u001b[0m                                    │ \u001b[2m…\u001b[0m               │ \u001b[2m…\u001b[0m                          │     \u001b[2m…\u001b[0m │            \u001b[2m…\u001b[0m │            \u001b[2m…\u001b[0m │                 \u001b[2m…\u001b[0m │             \u001b[2m…\u001b[0m │           \u001b[2m…\u001b[0m │\n",
       "└──────────────────────────────────────┴─────────────────┴────────────────────────────┴───────┴──────────────┴──────────────┴───────────────────┴───────────────┴─────────────┘"
      ]
     },
     "execution_count": 5,
     "metadata": {},
     "output_type": "execute_result"
    }
   ],
   "source": [
    "t = (\n",
    "    con.read_json(f\"gs://{BUCKET}/{get_timings_dir()}/*.json\")\n",
    "    .mutate(\n",
    "        timestamp=ibis._[\"timestamp\"].cast(\"timestamp\"),\n",
    "    )\n",
    "    .cache()\n",
    ")\n",
    "t"
   ]
  },
  {
   "cell_type": "code",
   "execution_count": 6,
   "metadata": {},
   "outputs": [
    {
     "data": {
      "text/html": [
       "<pre style=\"white-space:pre;overflow-x:auto;line-height:normal;font-family:Menlo,'DejaVu Sans Mono',consolas,'Courier New',monospace\"></pre>\n"
      ],
      "text/plain": []
     },
     "metadata": {},
     "output_type": "display_data"
    },
    {
     "data": {
      "text/plain": [
       "\u001b[1;36m30\u001b[0m"
      ]
     },
     "execution_count": 6,
     "metadata": {},
     "output_type": "execute_result"
    }
   ],
   "source": [
    "t.count()"
   ]
  },
  {
   "cell_type": "code",
   "execution_count": 7,
   "metadata": {},
   "outputs": [
    {
     "data": {
      "text/html": [
       "<pre style=\"white-space:pre;overflow-x:auto;line-height:normal;font-family:Menlo,'DejaVu Sans Mono',consolas,'Courier New',monospace\">┏━━━━━━━━━━━━━━━━━┳━━━━━━━┳━━━━━━━━━━━━━━┳━━━━━━━━━━━━━━┳━━━━━━━━━━━━━━━━━━━━━━━━┳━━━━━━━━━━━━━━━┳━━━━━━━━━━━━━━━━━┓\n",
       "┃<span style=\"font-weight: bold\"> system          </span>┃<span style=\"font-weight: bold\"> sf    </span>┃<span style=\"font-weight: bold\"> n_partitions </span>┃<span style=\"font-weight: bold\"> query_number </span>┃<span style=\"font-weight: bold\"> mean_execution_seconds </span>┃<span style=\"font-weight: bold\"> max_peak_cpu  </span>┃<span style=\"font-weight: bold\"> max_peak_memory </span>┃\n",
       "┡━━━━━━━━━━━━━━━━━╇━━━━━━━╇━━━━━━━━━━━━━━╇━━━━━━━━━━━━━━╇━━━━━━━━━━━━━━━━━━━━━━━━╇━━━━━━━━━━━━━━━╇━━━━━━━━━━━━━━━━━┩\n",
       "│ <span style=\"color: #7f7f7f; text-decoration-color: #7f7f7f\">string</span>          │ <span style=\"color: #7f7f7f; text-decoration-color: #7f7f7f\">int64</span> │ <span style=\"color: #7f7f7f; text-decoration-color: #7f7f7f\">int64</span>        │ <span style=\"color: #7f7f7f; text-decoration-color: #7f7f7f\">int64</span>        │ <span style=\"color: #7f7f7f; text-decoration-color: #7f7f7f\">float64</span>                │ <span style=\"color: #7f7f7f; text-decoration-color: #7f7f7f\">float64</span>       │ <span style=\"color: #7f7f7f; text-decoration-color: #7f7f7f\">float64</span>         │\n",
       "├─────────────────┼───────┼──────────────┼──────────────┼────────────────────────┼───────────────┼─────────────────┤\n",
       "│ <span style=\"color: #008000; text-decoration-color: #008000\">ibis-duckdb    </span> │   <span style=\"color: #008080; text-decoration-color: #008080; font-weight: bold\">100</span> │            <span style=\"color: #008080; text-decoration-color: #008080; font-weight: bold\">1</span> │            <span style=\"color: #008080; text-decoration-color: #008080; font-weight: bold\">1</span> │               <span style=\"color: #008080; text-decoration-color: #008080; font-weight: bold\">8.436633</span> │  <span style=\"color: #008080; text-decoration-color: #008080; font-weight: bold\">10232.755043</span> │        <span style=\"color: #008080; text-decoration-color: #008080; font-weight: bold\">0.000169</span> │\n",
       "│ <span style=\"color: #008000; text-decoration-color: #008000\">ibis-datafusion</span> │   <span style=\"color: #008080; text-decoration-color: #008080; font-weight: bold\">100</span> │            <span style=\"color: #008080; text-decoration-color: #008080; font-weight: bold\">1</span> │            <span style=\"color: #008080; text-decoration-color: #008080; font-weight: bold\">1</span> │               <span style=\"color: #008080; text-decoration-color: #008080; font-weight: bold\">9.525200</span> │   <span style=\"color: #008080; text-decoration-color: #008080; font-weight: bold\">9418.174819</span> │        <span style=\"color: #008080; text-decoration-color: #008080; font-weight: bold\">0.000277</span> │\n",
       "│ <span style=\"color: #008000; text-decoration-color: #008000\">ibis-duckdb    </span> │    <span style=\"color: #008080; text-decoration-color: #008080; font-weight: bold\">32</span> │            <span style=\"color: #008080; text-decoration-color: #008080; font-weight: bold\">1</span> │            <span style=\"color: #008080; text-decoration-color: #008080; font-weight: bold\">1</span> │               <span style=\"color: #008080; text-decoration-color: #008080; font-weight: bold\">2.738984</span> │  <span style=\"color: #008080; text-decoration-color: #008080; font-weight: bold\">30909.270249</span> │        <span style=\"color: #008080; text-decoration-color: #008080; font-weight: bold\">0.000169</span> │\n",
       "│ <span style=\"color: #008000; text-decoration-color: #008000\">ibis-duckdb    </span> │    <span style=\"color: #008080; text-decoration-color: #008080; font-weight: bold\">16</span> │            <span style=\"color: #008080; text-decoration-color: #008080; font-weight: bold\">1</span> │            <span style=\"color: #008080; text-decoration-color: #008080; font-weight: bold\">1</span> │               <span style=\"color: #008080; text-decoration-color: #008080; font-weight: bold\">1.407763</span> │  <span style=\"color: #008080; text-decoration-color: #008080; font-weight: bold\">59086.650058</span> │        <span style=\"color: #008080; text-decoration-color: #008080; font-weight: bold\">0.000169</span> │\n",
       "│ <span style=\"color: #008000; text-decoration-color: #008000\">ibis-duckdb    </span> │    <span style=\"color: #008080; text-decoration-color: #008080; font-weight: bold\">10</span> │            <span style=\"color: #008080; text-decoration-color: #008080; font-weight: bold\">1</span> │            <span style=\"color: #008080; text-decoration-color: #008080; font-weight: bold\">1</span> │               <span style=\"color: #008080; text-decoration-color: #008080; font-weight: bold\">0.898457</span> │  <span style=\"color: #008080; text-decoration-color: #008080; font-weight: bold\">90889.152654</span> │        <span style=\"color: #008080; text-decoration-color: #008080; font-weight: bold\">0.000169</span> │\n",
       "│ <span style=\"color: #008000; text-decoration-color: #008000\">ibis-datafusion</span> │    <span style=\"color: #008080; text-decoration-color: #008080; font-weight: bold\">10</span> │            <span style=\"color: #008080; text-decoration-color: #008080; font-weight: bold\">1</span> │            <span style=\"color: #008080; text-decoration-color: #008080; font-weight: bold\">1</span> │               <span style=\"color: #008080; text-decoration-color: #008080; font-weight: bold\">1.037822</span> │  <span style=\"color: #008080; text-decoration-color: #008080; font-weight: bold\">80244.973943</span> │        <span style=\"color: #008080; text-decoration-color: #008080; font-weight: bold\">0.000297</span> │\n",
       "│ <span style=\"color: #008000; text-decoration-color: #008000\">ibis-duckdb    </span> │     <span style=\"color: #008080; text-decoration-color: #008080; font-weight: bold\">8</span> │            <span style=\"color: #008080; text-decoration-color: #008080; font-weight: bold\">1</span> │            <span style=\"color: #008080; text-decoration-color: #008080; font-weight: bold\">1</span> │               <span style=\"color: #008080; text-decoration-color: #008080; font-weight: bold\">0.743626</span> │ <span style=\"color: #008080; text-decoration-color: #008080; font-weight: bold\">106747.226275</span> │        <span style=\"color: #008080; text-decoration-color: #008080; font-weight: bold\">0.000346</span> │\n",
       "│ <span style=\"color: #008000; text-decoration-color: #008000\">ibis-duckdb    </span> │     <span style=\"color: #008080; text-decoration-color: #008080; font-weight: bold\">1</span> │            <span style=\"color: #008080; text-decoration-color: #008080; font-weight: bold\">1</span> │            <span style=\"color: #008080; text-decoration-color: #008080; font-weight: bold\">1</span> │               <span style=\"color: #008080; text-decoration-color: #008080; font-weight: bold\">0.157612</span> │ <span style=\"color: #008080; text-decoration-color: #008080; font-weight: bold\">332589.212189</span> │        <span style=\"color: #008080; text-decoration-color: #008080; font-weight: bold\">0.000346</span> │\n",
       "│ <span style=\"color: #008000; text-decoration-color: #008000\">ibis-datafusion</span> │     <span style=\"color: #008080; text-decoration-color: #008080; font-weight: bold\">1</span> │            <span style=\"color: #008080; text-decoration-color: #008080; font-weight: bold\">1</span> │            <span style=\"color: #008080; text-decoration-color: #008080; font-weight: bold\">1</span> │               <span style=\"color: #008080; text-decoration-color: #008080; font-weight: bold\">0.230627</span> │ <span style=\"color: #008080; text-decoration-color: #008080; font-weight: bold\">188832.806483</span> │        <span style=\"color: #008080; text-decoration-color: #008080; font-weight: bold\">0.002122</span> │\n",
       "└─────────────────┴───────┴──────────────┴──────────────┴────────────────────────┴───────────────┴─────────────────┘\n",
       "</pre>\n"
      ],
      "text/plain": [
       "┏━━━━━━━━━━━━━━━━━┳━━━━━━━┳━━━━━━━━━━━━━━┳━━━━━━━━━━━━━━┳━━━━━━━━━━━━━━━━━━━━━━━━┳━━━━━━━━━━━━━━━┳━━━━━━━━━━━━━━━━━┓\n",
       "┃\u001b[1m \u001b[0m\u001b[1msystem\u001b[0m\u001b[1m         \u001b[0m\u001b[1m \u001b[0m┃\u001b[1m \u001b[0m\u001b[1msf\u001b[0m\u001b[1m   \u001b[0m\u001b[1m \u001b[0m┃\u001b[1m \u001b[0m\u001b[1mn_partitions\u001b[0m\u001b[1m \u001b[0m┃\u001b[1m \u001b[0m\u001b[1mquery_number\u001b[0m\u001b[1m \u001b[0m┃\u001b[1m \u001b[0m\u001b[1mmean_execution_seconds\u001b[0m\u001b[1m \u001b[0m┃\u001b[1m \u001b[0m\u001b[1mmax_peak_cpu\u001b[0m\u001b[1m \u001b[0m\u001b[1m \u001b[0m┃\u001b[1m \u001b[0m\u001b[1mmax_peak_memory\u001b[0m\u001b[1m \u001b[0m┃\n",
       "┡━━━━━━━━━━━━━━━━━╇━━━━━━━╇━━━━━━━━━━━━━━╇━━━━━━━━━━━━━━╇━━━━━━━━━━━━━━━━━━━━━━━━╇━━━━━━━━━━━━━━━╇━━━━━━━━━━━━━━━━━┩\n",
       "│ \u001b[2mstring\u001b[0m          │ \u001b[2mint64\u001b[0m │ \u001b[2mint64\u001b[0m        │ \u001b[2mint64\u001b[0m        │ \u001b[2mfloat64\u001b[0m                │ \u001b[2mfloat64\u001b[0m       │ \u001b[2mfloat64\u001b[0m         │\n",
       "├─────────────────┼───────┼──────────────┼──────────────┼────────────────────────┼───────────────┼─────────────────┤\n",
       "│ \u001b[32mibis-duckdb    \u001b[0m │   \u001b[1;36m100\u001b[0m │            \u001b[1;36m1\u001b[0m │            \u001b[1;36m1\u001b[0m │               \u001b[1;36m8.436633\u001b[0m │  \u001b[1;36m10232.755043\u001b[0m │        \u001b[1;36m0.000169\u001b[0m │\n",
       "│ \u001b[32mibis-datafusion\u001b[0m │   \u001b[1;36m100\u001b[0m │            \u001b[1;36m1\u001b[0m │            \u001b[1;36m1\u001b[0m │               \u001b[1;36m9.525200\u001b[0m │   \u001b[1;36m9418.174819\u001b[0m │        \u001b[1;36m0.000277\u001b[0m │\n",
       "│ \u001b[32mibis-duckdb    \u001b[0m │    \u001b[1;36m32\u001b[0m │            \u001b[1;36m1\u001b[0m │            \u001b[1;36m1\u001b[0m │               \u001b[1;36m2.738984\u001b[0m │  \u001b[1;36m30909.270249\u001b[0m │        \u001b[1;36m0.000169\u001b[0m │\n",
       "│ \u001b[32mibis-duckdb    \u001b[0m │    \u001b[1;36m16\u001b[0m │            \u001b[1;36m1\u001b[0m │            \u001b[1;36m1\u001b[0m │               \u001b[1;36m1.407763\u001b[0m │  \u001b[1;36m59086.650058\u001b[0m │        \u001b[1;36m0.000169\u001b[0m │\n",
       "│ \u001b[32mibis-duckdb    \u001b[0m │    \u001b[1;36m10\u001b[0m │            \u001b[1;36m1\u001b[0m │            \u001b[1;36m1\u001b[0m │               \u001b[1;36m0.898457\u001b[0m │  \u001b[1;36m90889.152654\u001b[0m │        \u001b[1;36m0.000169\u001b[0m │\n",
       "│ \u001b[32mibis-datafusion\u001b[0m │    \u001b[1;36m10\u001b[0m │            \u001b[1;36m1\u001b[0m │            \u001b[1;36m1\u001b[0m │               \u001b[1;36m1.037822\u001b[0m │  \u001b[1;36m80244.973943\u001b[0m │        \u001b[1;36m0.000297\u001b[0m │\n",
       "│ \u001b[32mibis-duckdb    \u001b[0m │     \u001b[1;36m8\u001b[0m │            \u001b[1;36m1\u001b[0m │            \u001b[1;36m1\u001b[0m │               \u001b[1;36m0.743626\u001b[0m │ \u001b[1;36m106747.226275\u001b[0m │        \u001b[1;36m0.000346\u001b[0m │\n",
       "│ \u001b[32mibis-duckdb    \u001b[0m │     \u001b[1;36m1\u001b[0m │            \u001b[1;36m1\u001b[0m │            \u001b[1;36m1\u001b[0m │               \u001b[1;36m0.157612\u001b[0m │ \u001b[1;36m332589.212189\u001b[0m │        \u001b[1;36m0.000346\u001b[0m │\n",
       "│ \u001b[32mibis-datafusion\u001b[0m │     \u001b[1;36m1\u001b[0m │            \u001b[1;36m1\u001b[0m │            \u001b[1;36m1\u001b[0m │               \u001b[1;36m0.230627\u001b[0m │ \u001b[1;36m188832.806483\u001b[0m │        \u001b[1;36m0.002122\u001b[0m │\n",
       "└─────────────────┴───────┴──────────────┴──────────────┴────────────────────────┴───────────────┴─────────────────┘"
      ]
     },
     "execution_count": 7,
     "metadata": {},
     "output_type": "execute_result"
    }
   ],
   "source": [
    "(\n",
    "    t.filter(t[\"sf\"] >= 1)\n",
    "    .filter((t[\"system\"].contains(\"duckdb\")) | (t[\"system\"].contains(\"datafusion\")))\n",
    "    .filter(t[\"query_number\"] == 1)\n",
    "    .group_by(\"system\", \"sf\", \"n_partitions\", \"query_number\")\n",
    "    .agg(\n",
    "        mean_execution_seconds=t[\"execution_seconds\"].mean(),\n",
    "        max_peak_cpu=t[\"peak_cpu\"].max(),\n",
    "        max_peak_memory=t[\"peak_memory\"].max(),\n",
    "    )\n",
    "    .order_by(\n",
    "        ibis.desc(\"sf\"),\n",
    "        ibis.asc(\"n_partitions\"),\n",
    "        ibis.desc(\"system\"),\n",
    "        ibis.asc(\"query_number\"),\n",
    "        ibis.asc(\"mean_execution_seconds\"),\n",
    "    )\n",
    ")"
   ]
  },
  {
   "cell_type": "code",
   "execution_count": 8,
   "metadata": {},
   "outputs": [
    {
     "data": {
      "text/html": [
       "<pre style=\"white-space:pre;overflow-x:auto;line-height:normal;font-family:Menlo,'DejaVu Sans Mono',consolas,'Courier New',monospace\">┏━━━━━━━━━━━━━━━━━━━━━━━━━━━━━━━━━━━━━━┳━━━━━━━━━━━━━━━━━━┓\n",
       "┃<span style=\"font-weight: bold\"> session_id                           </span>┃<span style=\"font-weight: bold\"> session_id_count </span>┃\n",
       "┡━━━━━━━━━━━━━━━━━━━━━━━━━━━━━━━━━━━━━━╇━━━━━━━━━━━━━━━━━━┩\n",
       "│ <span style=\"color: #7f7f7f; text-decoration-color: #7f7f7f\">uuid</span>                                 │ <span style=\"color: #7f7f7f; text-decoration-color: #7f7f7f\">int64</span>            │\n",
       "├──────────────────────────────────────┼──────────────────┤\n",
       "│ 245480c9-2d7b-473a-a81c-a868c7325503 │                <span style=\"color: #008080; text-decoration-color: #008080; font-weight: bold\">6</span> │\n",
       "│ 3856c658-a39b-412c-9271-1c89c4743f31 │                <span style=\"color: #008080; text-decoration-color: #008080; font-weight: bold\">6</span> │\n",
       "│ 7709c520-ce9e-4563-adc8-9872c0c7837d │                <span style=\"color: #008080; text-decoration-color: #008080; font-weight: bold\">6</span> │\n",
       "│ 40a7b0d9-cda4-4734-bb90-0a5b2536abcc │                <span style=\"color: #008080; text-decoration-color: #008080; font-weight: bold\">6</span> │\n",
       "│ d3651099-13a8-440a-8216-e2245f73f0b6 │                <span style=\"color: #008080; text-decoration-color: #008080; font-weight: bold\">6</span> │\n",
       "└──────────────────────────────────────┴──────────────────┘\n",
       "</pre>\n"
      ],
      "text/plain": [
       "┏━━━━━━━━━━━━━━━━━━━━━━━━━━━━━━━━━━━━━━┳━━━━━━━━━━━━━━━━━━┓\n",
       "┃\u001b[1m \u001b[0m\u001b[1msession_id\u001b[0m\u001b[1m                          \u001b[0m\u001b[1m \u001b[0m┃\u001b[1m \u001b[0m\u001b[1msession_id_count\u001b[0m\u001b[1m \u001b[0m┃\n",
       "┡━━━━━━━━━━━━━━━━━━━━━━━━━━━━━━━━━━━━━━╇━━━━━━━━━━━━━━━━━━┩\n",
       "│ \u001b[2muuid\u001b[0m                                 │ \u001b[2mint64\u001b[0m            │\n",
       "├──────────────────────────────────────┼──────────────────┤\n",
       "│ 245480c9-2d7b-473a-a81c-a868c7325503 │                \u001b[1;36m6\u001b[0m │\n",
       "│ 3856c658-a39b-412c-9271-1c89c4743f31 │                \u001b[1;36m6\u001b[0m │\n",
       "│ 7709c520-ce9e-4563-adc8-9872c0c7837d │                \u001b[1;36m6\u001b[0m │\n",
       "│ 40a7b0d9-cda4-4734-bb90-0a5b2536abcc │                \u001b[1;36m6\u001b[0m │\n",
       "│ d3651099-13a8-440a-8216-e2245f73f0b6 │                \u001b[1;36m6\u001b[0m │\n",
       "└──────────────────────────────────────┴──────────────────┘"
      ]
     },
     "execution_count": 8,
     "metadata": {},
     "output_type": "execute_result"
    }
   ],
   "source": [
    "t[\"session_id\"].value_counts()"
   ]
  },
  {
   "cell_type": "code",
   "execution_count": null,
   "metadata": {},
   "outputs": [],
   "source": []
  }
 ],
 "metadata": {
  "kernelspec": {
   "display_name": "venv",
   "language": "python",
   "name": "python3"
  },
  "language_info": {
   "codemirror_mode": {
    "name": "ipython",
    "version": 3
   },
   "file_extension": ".py",
   "mimetype": "text/x-python",
   "name": "python",
   "nbconvert_exporter": "python",
   "pygments_lexer": "ipython3",
   "version": "3.11.8"
  }
 },
 "nbformat": 4,
 "nbformat_minor": 2
}
