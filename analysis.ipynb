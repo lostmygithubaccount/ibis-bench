{
 "cells": [
  {
   "cell_type": "code",
   "execution_count": null,
   "metadata": {},
   "outputs": [],
   "source": [
    "import ibis\n",
    "import gcsfs\n",
    "import ibis.selectors as s\n",
    "import plotly.express as px\n",
    "\n",
    "ibis.options.interactive = True\n",
    "ibis.options.repr.interactive.max_rows = 40\n",
    "ibis.options.repr.interactive.max_length = 22\n",
    "ibis.options.repr.interactive.max_columns = None\n",
    "\n",
    "px.defaults.template = \"plotly_dark\""
   ]
  },
  {
   "cell_type": "code",
   "execution_count": null,
   "metadata": {},
   "outputs": [],
   "source": [
    "# YOLO\n",
    "import warnings\n",
    "\n",
    "warnings.filterwarnings(\"ignore\")"
   ]
  },
  {
   "cell_type": "code",
   "execution_count": null,
   "metadata": {},
   "outputs": [],
   "source": [
    "BUCKET = \"ibis-bench\"\n",
    "\n",
    "fs = gcsfs.GCSFileSystem()\n",
    "fs.ls(f\"{BUCKET}/bench_logs_v2/cache\")[-5:]"
   ]
  },
  {
   "cell_type": "code",
   "execution_count": null,
   "metadata": {},
   "outputs": [],
   "source": [
    "con = ibis.connect(\"duckdb://\")\n",
    "con.register_filesystem(fs)\n",
    "con"
   ]
  },
  {
   "cell_type": "code",
   "execution_count": null,
   "metadata": {},
   "outputs": [],
   "source": [
    "t = (\n",
    "    con.read_parquet(f\"gs://{BUCKET}/bench_logs_v2/cache/file_id=*.parquet\")\n",
    "    .mutate(\n",
    "        timestamp=ibis._[\"timestamp\"].cast(\"timestamp\"),\n",
    "    )\n",
    "    .cache()\n",
    ")\n",
    "t.head()"
   ]
  },
  {
   "cell_type": "code",
   "execution_count": null,
   "metadata": {},
   "outputs": [],
   "source": [
    "sfs = sorted(t.distinct(on=\"sf\")[\"sf\"].to_pyarrow().to_pylist())\n",
    "sfs"
   ]
  },
  {
   "cell_type": "code",
   "execution_count": null,
   "metadata": {},
   "outputs": [],
   "source": [
    "systems = sorted(t.distinct(on=\"system\")[\"system\"].to_pyarrow().to_pylist())\n",
    "systems"
   ]
  },
  {
   "cell_type": "code",
   "execution_count": null,
   "metadata": {},
   "outputs": [],
   "source": [
    "instance_types = sorted(\n",
    "    t.distinct(on=\"instance_type\")[\"instance_type\"].to_pyarrow().to_pylist(),\n",
    "    key=lambda x: (x.split(\"-\")[0], int(x.split(\"-\")[-1])) if \"-\" in x else (x, 0),\n",
    ")\n",
    "instance_types"
   ]
  },
  {
   "cell_type": "code",
   "execution_count": null,
   "metadata": {},
   "outputs": [],
   "source": [
    "query_numbers = sorted(\n",
    "    t.distinct(on=\"query_number\")[\"query_number\"].to_pyarrow().to_pylist()\n",
    ")\n",
    "query_numbers"
   ]
  },
  {
   "cell_type": "code",
   "execution_count": null,
   "metadata": {},
   "outputs": [],
   "source": [
    "t.filter(t[\"query_number\"] == t[\"query_number\"].min()).group_by(\n",
    "    \"instance_type\", \"system\", \"sf\"\n",
    ").agg(count=ibis._.count()).order_by(\"instance_type\", \"system\", \"sf\").head(12)"
   ]
  },
  {
   "cell_type": "code",
   "execution_count": null,
   "metadata": {},
   "outputs": [],
   "source": [
    "total_runs_theoretical = (\n",
    "    len(sfs) * len(systems) * len(instance_types) * len(query_numbers) * 3\n",
    ")\n",
    "f\"total runs (theoritical): {total_runs_theoretical:,}\""
   ]
  },
  {
   "cell_type": "code",
   "execution_count": null,
   "metadata": {},
   "outputs": [],
   "source": [
    "total_runs_actual = t.count().to_pyarrow().as_py()\n",
    "f\"total runs (actual): {total_runs_actual:,}\""
   ]
  },
  {
   "cell_type": "code",
   "execution_count": null,
   "metadata": {},
   "outputs": [],
   "source": [
    "f\"missing runs: {total_runs_theoretical - total_runs_actual:,}\""
   ]
  },
  {
   "cell_type": "code",
   "execution_count": null,
   "metadata": {},
   "outputs": [],
   "source": [
    "t.select(\"instance_type\", \"system\", \"sf\", \"n_partitions\").value_counts().order_by(\n",
    "    s.across(s.contains(\"count\"), ibis._.desc())\n",
    ")"
   ]
  },
  {
   "cell_type": "code",
   "execution_count": null,
   "metadata": {},
   "outputs": [],
   "source": [
    "a = t.group_by(\"system\").agg(\n",
    "    present_queries=ibis._[\"query_number\"].collect().unique().sort()\n",
    ")\n",
    "a = (\n",
    "    a.mutate(\n",
    "        failing_queries=t.distinct(on=\"query_number\")[\"query_number\"]\n",
    "        .collect()\n",
    "        .filter(lambda x: ~a[\"present_queries\"].contains(x))\n",
    "    )\n",
    "    .mutate(num_failing_queries=ibis._[\"failing_queries\"].length())\n",
    "    .drop(\"present_queries\")\n",
    "    .order_by(\"num_failing_queries\", \"system\")\n",
    ")\n",
    "a"
   ]
  },
  {
   "cell_type": "code",
   "execution_count": null,
   "metadata": {},
   "outputs": [],
   "source": [
    "b = (\n",
    "    t.filter(t[\"instance_type\"].endswith(\"-2\"))\n",
    "    .filter(t[\"sf\"] == 128)\n",
    "    # .filter(t[\"system\"].contains(\"duckdb\"))\n",
    "    .mutate(\n",
    "        run_number=ibis.row_number().over(\n",
    "            ibis.window(\n",
    "                group_by=(\"instance_type\", \"system\", \"sf\", \"query_number\"),\n",
    "                order_by=ibis.asc(\"timestamp\"),\n",
    "            )\n",
    "        ),\n",
    "    )\n",
    "    .group_by(\"instance_type\", \"system\", \"sf\", \"run_number\")\n",
    "    .agg(\n",
    "        completed_queries=t[\"execution_seconds\"].count(),\n",
    "        total_time=t[\"execution_seconds\"].sum(),\n",
    "        present_queries=ibis._[\"query_number\"].collect().unique().sort(),\n",
    "    )\n",
    "    .order_by(ibis.desc(\"completed_queries\"), ibis.asc(\"total_time\"))\n",
    ")\n",
    "b = (\n",
    "    b.mutate(\n",
    "        failing_queries=t.distinct(on=\"query_number\")[\"query_number\"]\n",
    "        .collect()\n",
    "        .filter(lambda x: ~b[\"present_queries\"].contains(x))\n",
    "    )\n",
    "    .drop(\"present_queries\")\n",
    "    .relocate(\"instance_type\", \"system\", \"sf\", \"run_number\", \"failing_queries\")\n",
    ")\n",
    "b"
   ]
  },
  {
   "cell_type": "code",
   "execution_count": null,
   "metadata": {},
   "outputs": [],
   "source": [
    "agg = (\n",
    "    t.filter(t[\"sf\"] >= 1)\n",
    "    # .filter((t[\"system\"].contains(\"duckdb\")) | (t[\"system\"].contains(\"datafusion\")))\n",
    "    # .filter(t[\"query_number\"] == 1)\n",
    "    .group_by(\"instance_type\", \"system\", \"sf\", \"n_partitions\", \"query_number\")\n",
    "    .agg(\n",
    "        mean_execution_seconds=t[\"execution_seconds\"].mean(),\n",
    "    )\n",
    "    .order_by(\n",
    "        ibis.asc(\"instance_type\"),\n",
    "        ibis.desc(\"sf\"),\n",
    "        ibis.asc(\"n_partitions\"),\n",
    "        ibis.asc(\"query_number\"),\n",
    "        ibis.desc(\"system\"),\n",
    "        ibis.asc(\"mean_execution_seconds\"),\n",
    "    )\n",
    ")\n",
    "agg"
   ]
  },
  {
   "cell_type": "code",
   "execution_count": null,
   "metadata": {},
   "outputs": [],
   "source": [
    "category_orders = {\n",
    "    \"query_number\": sorted(\n",
    "        agg.select(\"query_number\").distinct().to_pandas()[\"query_number\"].tolist()\n",
    "    ),\n",
    "    \"system\": sorted(agg.select(\"system\").distinct().to_pandas()[\"system\"].tolist()),\n",
    "    \"instance_type\": sorted(\n",
    "        agg.select(\"instance_type\").distinct().to_pandas()[\"instance_type\"].tolist(),\n",
    "        key=lambda x: (x.split(\"-\")[0], int(x.split(\"-\")[-1])) if \"-\" in x else (x, 0),\n",
    "    ),\n",
    "}\n",
    "\n",
    "for sf in sorted(sfs):\n",
    "    c = px.bar(\n",
    "        agg.filter(agg[\"sf\"] == sf).filter(agg[\"instance_type\"].startswith(\"n2d\")),\n",
    "        x=\"query_number\",\n",
    "        y=\"mean_execution_seconds\",\n",
    "        color=\"system\",\n",
    "        barmode=\"group\",\n",
    "        pattern_shape=\"instance_type\",\n",
    "        category_orders=category_orders,\n",
    "        title=f\"scale factor: {sf} (~{sf} GB of data in memory; ~{sf*2//5}GB on disk in Parquet)\",\n",
    "    )\n",
    "    c.show()"
   ]
  },
  {
   "cell_type": "code",
   "execution_count": null,
   "metadata": {},
   "outputs": [],
   "source": [
    "(\n",
    "    agg.filter(agg[\"sf\"] == 128)\n",
    "    .filter(agg[\"instance_type\"] == \"n2d-standard-2\")\n",
    "    .group_by(\"instance_type\", \"system\")\n",
    "    .agg(\n",
    "        total_execution_seconds=ibis._[\"mean_execution_seconds\"].sum(),\n",
    "        completed_queries=ibis._[\"mean_execution_seconds\"].count(),\n",
    "    )\n",
    "    .order_by(ibis.desc(\"completed_queries\"), ibis.asc(\"total_execution_seconds\"))\n",
    ")"
   ]
  },
  {
   "cell_type": "code",
   "execution_count": null,
   "metadata": {},
   "outputs": [],
   "source": [
    "(\n",
    "    agg.filter(agg[\"sf\"] == 128)\n",
    "    .filter(agg[\"instance_type\"] == \"n2d-standard-32\")\n",
    "    .group_by(\"instance_type\", \"system\")\n",
    "    .agg(\n",
    "        total_execution_seconds=ibis._[\"mean_execution_seconds\"].sum(),\n",
    "        completed_queries=ibis._[\"mean_execution_seconds\"].count(),\n",
    "    )\n",
    "    .order_by(ibis.desc(\"completed_queries\"), ibis.asc(\"total_execution_seconds\"))\n",
    ")"
   ]
  },
  {
   "cell_type": "code",
   "execution_count": null,
   "metadata": {},
   "outputs": [],
   "source": [
    "d = (\n",
    "    agg.filter(agg[\"sf\"] == 128)\n",
    "    .filter(agg[\"instance_type\"] == \"n2d-standard-32\")\n",
    "    .group_by(\"instance_type\", \"system\", \"query_number\")\n",
    "    .agg(\n",
    "        total_execution_seconds=ibis._[\"mean_execution_seconds\"].sum(),\n",
    "        completed_queries=ibis._[\"mean_execution_seconds\"].count(),\n",
    "    )\n",
    ")\n",
    "d"
   ]
  },
  {
   "cell_type": "code",
   "execution_count": null,
   "metadata": {},
   "outputs": [],
   "source": [
    "delta = 0.000001  # floats!\n",
    "best_performance_system = d.filter(\n",
    "    (d[\"total_execution_seconds\"] >= d[\"total_execution_seconds\"].min() - delta,)\n",
    "    & (d[\"total_execution_seconds\"] <= d[\"total_execution_seconds\"].min() + delta)\n",
    ")[\"system\"]\n",
    "e = (\n",
    "    d.mutate(\n",
    "        relative_performance_slowdown=(\n",
    "            (ibis._[\"total_execution_seconds\"] - d[\"total_execution_seconds\"].min())\n",
    "            / d[\"total_execution_seconds\"].min()\n",
    "        ),\n",
    "        relative_queries=(ibis._[\"completed_queries\"] - d[\"completed_queries\"].max()),\n",
    "    )\n",
    ").order_by(ibis.desc(\"completed_queries\"), ibis.asc(\"total_execution_seconds\"))\n",
    "e"
   ]
  },
  {
   "cell_type": "code",
   "execution_count": null,
   "metadata": {},
   "outputs": [],
   "source": [
    "best_performance_system.to_pyarrow().to_pylist()[0]"
   ]
  },
  {
   "cell_type": "code",
   "execution_count": null,
   "metadata": {},
   "outputs": [],
   "source": [
    "c = px.bar(\n",
    "    e,\n",
    "    x=\"query_number\",\n",
    "    y=\"relative_performance_slowdown\",\n",
    "    color=\"system\",\n",
    "    barmode=\"group\",\n",
    "    pattern_shape=\"system\",\n",
    "    category_orders=category_orders,\n",
    "    title=\"relative performance slowdown (lower is better)\",\n",
    ")\n",
    "c"
   ]
  },
  {
   "cell_type": "code",
   "execution_count": null,
   "metadata": {},
   "outputs": [],
   "source": [
    "(\n",
    "    t.filter(t[\"sf\"] >= 1)\n",
    "    .filter(t[\"instance_type\"] == \"n2-standard-2\")\n",
    "    .agg(\n",
    "        total_execution_seconds=t[\"execution_seconds\"].sum(),\n",
    "        total_execution_minutes=t[\"execution_seconds\"].sum() / 60,\n",
    "        total_execution_hours=t[\"execution_seconds\"].sum() / 3600,\n",
    "        total_queries_executed=ibis._.count(),\n",
    "        total_queries_theoretical=22 * 6 * 6 * 3,\n",
    "    )\n",
    ")"
   ]
  },
  {
   "cell_type": "code",
   "execution_count": null,
   "metadata": {},
   "outputs": [],
   "source": []
  }
 ],
 "metadata": {
  "kernelspec": {
   "display_name": "venv",
   "language": "python",
   "name": "python3"
  },
  "language_info": {
   "codemirror_mode": {
    "name": "ipython",
    "version": 3
   },
   "file_extension": ".py",
   "mimetype": "text/x-python",
   "name": "python",
   "nbconvert_exporter": "python",
   "pygments_lexer": "ipython3",
   "version": "3.11.8"
  }
 },
 "nbformat": 4,
 "nbformat_minor": 2
}
