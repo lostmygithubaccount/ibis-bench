{
 "cells": [
  {
   "cell_type": "code",
   "execution_count": null,
   "metadata": {},
   "outputs": [],
   "source": [
    "import ibis\n",
    "import gcsfs\n",
    "import plotly.express as px\n",
    "\n",
    "from ibis_bench.utils.monitor import get_timings_dir\n",
    "\n",
    "ibis.options.interactive = True\n",
    "ibis.options.repr.interactive.max_rows = 20\n",
    "ibis.options.repr.interactive.max_columns = None\n",
    "\n",
    "px.defaults.template = \"plotly_dark\""
   ]
  },
  {
   "cell_type": "code",
   "execution_count": null,
   "metadata": {},
   "outputs": [],
   "source": [
    "# YOLO\n",
    "import warnings\n",
    "\n",
    "warnings.filterwarnings(\"ignore\")"
   ]
  },
  {
   "cell_type": "code",
   "execution_count": null,
   "metadata": {},
   "outputs": [],
   "source": [
    "cloud_logs = True"
   ]
  },
  {
   "cell_type": "code",
   "execution_count": null,
   "metadata": {},
   "outputs": [],
   "source": [
    "if cloud_logs:\n",
    "    BUCKET = \"ibis-bench\"\n",
    "\n",
    "    fs = gcsfs.GCSFileSystem()\n",
    "    fs.ls(f\"{BUCKET}/{get_timings_dir()}\")[-5:]"
   ]
  },
  {
   "cell_type": "code",
   "execution_count": null,
   "metadata": {},
   "outputs": [],
   "source": [
    "con = ibis.connect(\"duckdb://\")\n",
    "\n",
    "if cloud_logs:\n",
    "    con.register_filesystem(fs)"
   ]
  },
  {
   "cell_type": "code",
   "execution_count": null,
   "metadata": {},
   "outputs": [],
   "source": [
    "glob_path = (\n",
    "    f\"gs://{BUCKET}/{get_timings_dir()}/*.json\"\n",
    "    if cloud_logs\n",
    "    else f\"{get_timings_dir()}/*.json\"\n",
    ")\n",
    "\n",
    "t = (\n",
    "    con.read_json(glob_path, ignore_errors=True)\n",
    "    .mutate(\n",
    "        timestamp=ibis._[\"timestamp\"].cast(\"timestamp\"),\n",
    "    )\n",
    "    .cache()\n",
    ")\n",
    "t"
   ]
  },
  {
   "cell_type": "code",
   "execution_count": null,
   "metadata": {},
   "outputs": [],
   "source": [
    "t.count()"
   ]
  },
  {
   "cell_type": "code",
   "execution_count": null,
   "metadata": {},
   "outputs": [],
   "source": [
    "t[\"execution_seconds\"].sum()"
   ]
  },
  {
   "cell_type": "code",
   "execution_count": null,
   "metadata": {},
   "outputs": [],
   "source": [
    "f\"runtime minutes: {t['execution_seconds'].sum().to_pandas() / 60:.2f}\""
   ]
  },
  {
   "cell_type": "code",
   "execution_count": null,
   "metadata": {},
   "outputs": [],
   "source": [
    "# average execution time per query\n",
    "t[\"execution_seconds\"].mean()"
   ]
  },
  {
   "cell_type": "code",
   "execution_count": null,
   "metadata": {},
   "outputs": [],
   "source": [
    "agg = (\n",
    "    t.filter(t[\"sf\"] >= 1)\n",
    "    # .filter((t[\"system\"].contains(\"duckdb\")) | (t[\"system\"].contains(\"datafusion\")))\n",
    "    # .filter(t[\"query_number\"] == 1)\n",
    "    .group_by(\"system\", \"sf\", \"n_partitions\", \"query_number\")\n",
    "    .agg(\n",
    "        mean_execution_seconds=t[\"execution_seconds\"].mean(),\n",
    "        max_peak_cpu=t[\"peak_cpu\"].max(),\n",
    "        max_peak_memory=t[\"peak_memory\"].max(),\n",
    "    )\n",
    "    .order_by(\n",
    "        ibis.desc(\"sf\"),\n",
    "        ibis.asc(\"n_partitions\"),\n",
    "        ibis.asc(\"query_number\"),\n",
    "        ibis.desc(\"system\"),\n",
    "        ibis.asc(\"mean_execution_seconds\"),\n",
    "    )\n",
    ")\n",
    "agg"
   ]
  },
  {
   "cell_type": "code",
   "execution_count": null,
   "metadata": {},
   "outputs": [],
   "source": [
    "t.filter(t[\"system\"] == \"polars-lazy\").filter(t[\"sf\"] == 150)"
   ]
  },
  {
   "cell_type": "code",
   "execution_count": null,
   "metadata": {},
   "outputs": [],
   "source": [
    "t[\"session_id\"].value_counts()"
   ]
  },
  {
   "cell_type": "code",
   "execution_count": null,
   "metadata": {},
   "outputs": [],
   "source": [
    "t[\"system\"].value_counts()"
   ]
  },
  {
   "cell_type": "code",
   "execution_count": null,
   "metadata": {},
   "outputs": [],
   "source": [
    "sfs = agg.select(\"sf\").distinct().to_pandas()[\"sf\"].tolist()\n",
    "sfs"
   ]
  },
  {
   "cell_type": "code",
   "execution_count": null,
   "metadata": {},
   "outputs": [],
   "source": [
    "category_orders = {\n",
    "    \"query_number\": sorted(\n",
    "        agg.select(\"query_number\").distinct().to_pandas()[\"query_number\"].tolist()\n",
    "    ),\n",
    "    \"system\": sorted(agg.select(\"system\").distinct().to_pandas()[\"system\"].tolist()),\n",
    "    \"n_partitions\": sorted(\n",
    "        agg.select(\"n_partitions\").distinct().to_pandas()[\"n_partitions\"].tolist()\n",
    "    ),\n",
    "}\n",
    "\n",
    "for sf in sorted(sfs):\n",
    "    c = px.bar(\n",
    "        agg.filter(agg[\"sf\"] == sf),\n",
    "        x=\"query_number\",\n",
    "        y=\"mean_execution_seconds\",\n",
    "        color=\"system\",\n",
    "        barmode=\"group\",\n",
    "        pattern_shape=\"n_partitions\",\n",
    "        category_orders=category_orders,\n",
    "        title=f\"scale factor: {sf} (~{sf} GB of data in memory; ~{sf*2//5}GB on disk in Parquet)\",\n",
    "    )\n",
    "    c.show()"
   ]
  },
  {
   "cell_type": "code",
   "execution_count": null,
   "metadata": {},
   "outputs": [],
   "source": []
  }
 ],
 "metadata": {
  "kernelspec": {
   "display_name": "venv",
   "language": "python",
   "name": "python3"
  },
  "language_info": {
   "codemirror_mode": {
    "name": "ipython",
    "version": 3
   },
   "file_extension": ".py",
   "mimetype": "text/x-python",
   "name": "python",
   "nbconvert_exporter": "python",
   "pygments_lexer": "ipython3",
   "version": "3.11.8"
  }
 },
 "nbformat": 4,
 "nbformat_minor": 2
}
