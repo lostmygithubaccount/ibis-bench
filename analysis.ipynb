{
 "cells": [
  {
   "cell_type": "code",
   "execution_count": null,
   "metadata": {},
   "outputs": [],
   "source": [
    "import ibis\n",
    "import gcsfs\n",
    "\n",
    "from ibis_bench.utils.monitor import get_timings_dir\n",
    "\n",
    "ibis.options.interactive = True\n",
    "ibis.options.repr.interactive.max_rows = 20\n",
    "ibis.options.repr.interactive.max_columns = None"
   ]
  },
  {
   "cell_type": "code",
   "execution_count": null,
   "metadata": {},
   "outputs": [],
   "source": [
    "# YOLO\n",
    "import warnings\n",
    "\n",
    "warnings.filterwarnings(\"ignore\")"
   ]
  },
  {
   "cell_type": "code",
   "execution_count": null,
   "metadata": {},
   "outputs": [],
   "source": [
    "PROJECT = \"voltrondata-demo\"\n",
    "BUCKET = \"ibis-benchy\"\n",
    "\n",
    "fs = gcsfs.GCSFileSystem(project=PROJECT)\n",
    "fs.ls(f\"{BUCKET}/{get_timings_dir()}\")[-5:]"
   ]
  },
  {
   "cell_type": "code",
   "execution_count": null,
   "metadata": {},
   "outputs": [],
   "source": [
    "con = ibis.connect(\"duckdb://\")\n",
    "con.register_filesystem(fs)"
   ]
  },
  {
   "cell_type": "code",
   "execution_count": null,
   "metadata": {},
   "outputs": [],
   "source": [
    "t = (\n",
    "    con.read_json(f\"gs://{BUCKET}/{get_timings_dir()}/*.json\")\n",
    "    .mutate(\n",
    "        timestamp=ibis._[\"timestamp\"].cast(\"timestamp\"),\n",
    "    )\n",
    "    .cache()\n",
    ")\n",
    "t"
   ]
  },
  {
   "cell_type": "code",
   "execution_count": null,
   "metadata": {},
   "outputs": [],
   "source": [
    "t.count()"
   ]
  },
  {
   "cell_type": "code",
   "execution_count": null,
   "metadata": {},
   "outputs": [],
   "source": [
    "(\n",
    "    t.filter(t[\"sf\"] >= 1)\n",
    "    .filter((t[\"system\"].contains(\"duckdb\")) | (t[\"system\"].contains(\"datafusion\")))\n",
    "    .filter(t[\"query_number\"] == 1)\n",
    "    .group_by(\"system\", \"sf\", \"n_partitions\", \"query_number\")\n",
    "    .agg(\n",
    "        mean_execution_seconds=t[\"execution_seconds\"].mean(),\n",
    "        max_peak_cpu=t[\"peak_cpu\"].max(),\n",
    "        max_peak_memory=t[\"peak_memory\"].max(),\n",
    "    )\n",
    "    .order_by(\n",
    "        ibis.desc(\"sf\"),\n",
    "        ibis.asc(\"n_partitions\"),\n",
    "        ibis.desc(\"system\"),\n",
    "        ibis.asc(\"query_number\"),\n",
    "        ibis.asc(\"mean_execution_seconds\"),\n",
    "    )\n",
    ")"
   ]
  },
  {
   "cell_type": "code",
   "execution_count": null,
   "metadata": {},
   "outputs": [],
   "source": [
    "t[\"session_id\"].value_counts()"
   ]
  },
  {
   "cell_type": "code",
   "execution_count": null,
   "metadata": {},
   "outputs": [],
   "source": []
  }
 ],
 "metadata": {
  "kernelspec": {
   "display_name": "venv",
   "language": "python",
   "name": "python3"
  },
  "language_info": {
   "codemirror_mode": {
    "name": "ipython",
    "version": 3
   },
   "file_extension": ".py",
   "mimetype": "text/x-python",
   "name": "python",
   "nbconvert_exporter": "python",
   "pygments_lexer": "ipython3",
   "version": "3.11.8"
  }
 },
 "nbformat": 4,
 "nbformat_minor": 2
}
