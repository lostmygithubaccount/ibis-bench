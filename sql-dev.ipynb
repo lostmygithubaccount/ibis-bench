{
 "cells": [
  {
   "cell_type": "code",
   "execution_count": null,
   "metadata": {},
   "outputs": [],
   "source": [
    "import ibis\n",
    "\n",
    "from ibis_bench.queries.sql import *  # noqa\n",
    "from ibis_bench.utils.read_data import get_ibis_tables"
   ]
  },
  {
   "cell_type": "code",
   "execution_count": null,
   "metadata": {},
   "outputs": [],
   "source": [
    "ibis.options.interactive = True"
   ]
  },
  {
   "cell_type": "code",
   "execution_count": null,
   "metadata": {},
   "outputs": [],
   "source": [
    "backend = \"datafusion\"\n",
    "con = ibis.connect(f\"{backend}://\")"
   ]
  },
  {
   "cell_type": "code",
   "execution_count": null,
   "metadata": {},
   "outputs": [],
   "source": [
    "sf = 1\n",
    "n_partitions = 1\n",
    "\n",
    "customer, lineitem, nation, orders, part, partsupp, region, supplier = get_ibis_tables(\n",
    "    sf=sf, n_partitions=n_partitions, con=con\n",
    ")"
   ]
  },
  {
   "cell_type": "code",
   "execution_count": null,
   "metadata": {},
   "outputs": [],
   "source": [
    "res = q16(\n",
    "    customer=customer,\n",
    "    lineitem=lineitem,\n",
    "    nation=nation,\n",
    "    orders=orders,\n",
    "    part=part,\n",
    "    partsupp=partsupp,\n",
    "    region=region,\n",
    "    supplier=supplier,\n",
    "    dialect=backend,\n",
    ")\n",
    "res"
   ]
  },
  {
   "cell_type": "code",
   "execution_count": null,
   "metadata": {},
   "outputs": [],
   "source": []
  },
  {
   "cell_type": "code",
   "execution_count": null,
   "metadata": {},
   "outputs": [],
   "source": []
  },
  {
   "cell_type": "code",
   "execution_count": null,
   "metadata": {},
   "outputs": [],
   "source": []
  },
  {
   "cell_type": "code",
   "execution_count": null,
   "metadata": {},
   "outputs": [],
   "source": []
  },
  {
   "cell_type": "code",
   "execution_count": null,
   "metadata": {},
   "outputs": [],
   "source": [
    "import datafusion"
   ]
  },
  {
   "cell_type": "code",
   "execution_count": null,
   "metadata": {},
   "outputs": [],
   "source": [
    "ctx = datafusion.SessionContext()\n",
    "ctx.register_parquet(\n",
    "    \"part\", \"/Users/cody/repos/ibis-bench/tpch_data/parquet/sf=1/n=1/part/0000.parquet\"\n",
    ")\n",
    "ctx.register_parquet(\n",
    "    \"partsupp\",\n",
    "    \"/Users/cody/repos/ibis-bench/tpch_data/parquet/sf=1/n=1/partsupp/0000.parquet\",\n",
    ")\n",
    "ctx.register_parquet(\n",
    "    \"supplier\",\n",
    "    \"/Users/cody/repos/ibis-bench/tpch_data/parquet/sf=1/n=1/supplier/0000.parquet\",\n",
    ")"
   ]
  },
  {
   "cell_type": "code",
   "execution_count": null,
   "metadata": {},
   "outputs": [],
   "source": [
    "sql = \"\"\"\n",
    "select\n",
    "    p_brand,\n",
    "    p_type,\n",
    "    p_size,\n",
    "    count(distinct ps_suppkey) as supplier_cnt\n",
    "from\n",
    "    partsupp,\n",
    "    part\n",
    "where\n",
    "        p_partkey = ps_partkey\n",
    "  and p_brand <> 'Brand#45'\n",
    "  and p_type not like 'MEDIUM POLISHED%'\n",
    "  and p_size in (49, 14, 23, 45, 19, 3, 36, 9)\n",
    "  and ps_suppkey not in (\n",
    "    select\n",
    "        s_suppkey\n",
    "    from\n",
    "        supplier\n",
    "    where\n",
    "            s_comment like '%Customer%Complaints%'\n",
    ")\n",
    "group by\n",
    "    p_brand,\n",
    "    p_type,\n",
    "    p_size\n",
    "order by\n",
    "    supplier_cnt desc,\n",
    "    p_brand,\n",
    "    p_type,\n",
    "    p_size;\n",
    "\"\"\"\n",
    "sql = sql.strip()"
   ]
  },
  {
   "cell_type": "code",
   "execution_count": null,
   "metadata": {},
   "outputs": [],
   "source": [
    "sql = \"\"\"\n",
    "SELECT\n",
    "    p_brand,\n",
    "    p_type,\n",
    "    p_size,\n",
    "    count(DISTINCT ps_suppkey) AS supplier_cnt\n",
    "FROM\n",
    "    partsupp,\n",
    "    part\n",
    "WHERE\n",
    "    p_partkey = ps_partkey\n",
    "    AND p_brand <> 'Brand#45'\n",
    "    AND p_type NOT LIKE 'MEDIUM POLISHED%'\n",
    "    AND p_size IN (49, 14, 23, 45, 19, 3, 36, 9)\n",
    "    AND ps_suppkey NOT IN (\n",
    "        SELECT\n",
    "            s_suppkey\n",
    "        FROM\n",
    "            supplier\n",
    "        WHERE\n",
    "            s_comment LIKE '%Customer%Complaints%')\n",
    "GROUP BY\n",
    "    p_brand,\n",
    "    p_type,\n",
    "    p_size\n",
    "ORDER BY\n",
    "    supplier_cnt DESC,\n",
    "    p_brand,\n",
    "    p_type,\n",
    "    p_size;\n",
    "\"\"\"\n",
    "sql = sql.strip()"
   ]
  },
  {
   "cell_type": "code",
   "execution_count": null,
   "metadata": {},
   "outputs": [],
   "source": [
    "import sqlglot\n",
    "\n",
    "sql = sqlglot.transpile(sql, \"duckdb\", \"postgres\", pretty=True)[0]\n",
    "print(sql)"
   ]
  },
  {
   "cell_type": "code",
   "execution_count": null,
   "metadata": {},
   "outputs": [],
   "source": [
    "ctx.sql(sql).collect()"
   ]
  },
  {
   "cell_type": "code",
   "execution_count": null,
   "metadata": {},
   "outputs": [],
   "source": [
    "ctx.register_parquet?"
   ]
  },
  {
   "cell_type": "code",
   "execution_count": null,
   "metadata": {},
   "outputs": [],
   "source": [
    "# let's reproduce the error caused by this SQL but w/ more simple data:\n",
    "# SELECT\n",
    "#   p_brand,\n",
    "#   p_type,\n",
    "#   p_size,\n",
    "#   COUNT(DISTINCT ps_suppkey) AS supplier_cnt\n",
    "# FROM partsupp, part\n",
    "# WHERE\n",
    "#   p_partkey = ps_partkey\n",
    "#   AND p_brand <> 'Brand#45'\n",
    "#   AND NOT p_type LIKE 'MEDIUM POLISHED%'\n",
    "#   AND p_size IN (49, 14, 23, 45, 19, 3, 36, 9)\n",
    "#   AND NOT ps_suppkey IN (\n",
    "#     SELECT\n",
    "#       s_suppkey\n",
    "#     FROM supplier\n",
    "#     WHERE\n",
    "#       s_comment LIKE '%Customer%Complaints%'\n",
    "#   )\n",
    "# GROUP BY\n",
    "#   p_brand,\n",
    "#   p_type,\n",
    "#   p_size\n",
    "# ORDER BY\n",
    "#   supplier_cnt DESC NULLS LAST,\n",
    "#   p_brand,\n",
    "#   p_type,\n",
    "\n",
    "# the error is the NOT col IN () instead of col NOT IN ()\n",
    "\n"
   ]
  },
  {
   "cell_type": "code",
   "execution_count": null,
   "metadata": {},
   "outputs": [],
   "source": [
    "import datafusion\n",
    "\n",
    "ctx = datafusion.SessionContext()"
   ]
  },
  {
   "cell_type": "code",
   "execution_count": null,
   "metadata": {},
   "outputs": [],
   "source": [
    "tables = {\n",
    "    \"part\": {\n",
    "        \"p_partkey\": [1, 2, 3, 4, 5],\n",
    "        \"p_brand\": [\"Brand#45\", \"Brand#45\", \"Brand#46\", \"Brand#47\", \"Brand#48\"],\n",
    "        \"p_type\": [\n",
    "            \"MEDIUM POLISHED\",\n",
    "            \"MEDIUM POLISHED\",\n",
    "            \"MEDIUM POLISHED\",\n",
    "            \"MEDIUM POLISHED\",\n",
    "            \"MEDIUM POLISHED\",\n",
    "        ],\n",
    "        \"p_size\": [49, 14, 23, 45, 19],\n",
    "    },\n",
    "    \"partsupp\": {\n",
    "        \"ps_partkey\": [1, 2, 3, 4, 5],\n",
    "        \"ps_suppkey\": [1, 2, 3, 4, 5],\n",
    "    },\n",
    "    \"supplier\": {\n",
    "        \"s_suppkey\": [1, 2, 3, 4, 5],\n",
    "        \"s_comment\": [\n",
    "            \"Customer Complaints\",\n",
    "            \"Customer Complaints\",\n",
    "            \"Customer Complaints\",\n",
    "            \"Customer Complaints\",\n",
    "            \"Customer Complaints\",\n",
    "        ],\n",
    "    },\n",
    "}\n",
    "\n",
    "for table_name, data in tables.items():\n",
    "    ctx.from_pydict(data, name=table_name)"
   ]
  },
  {
   "cell_type": "code",
   "execution_count": null,
   "metadata": {},
   "outputs": [],
   "source": [
    "sqlA = \"\"\"\n",
    "select\n",
    "    p_brand,\n",
    "    p_type,\n",
    "    p_size,\n",
    "    count(distinct ps_suppkey) as supplier_cnt\n",
    "from\n",
    "    partsupp,\n",
    "    part\n",
    "where\n",
    "        p_partkey = ps_partkey\n",
    "  and p_brand <> 'Brand#45'\n",
    "  and p_type not like 'MEDIUM POLISHED%'\n",
    "  and p_size in (49, 14, 23, 45, 19, 3, 36, 9)\n",
    "  and ps_suppkey not in (\n",
    "    select\n",
    "        s_suppkey\n",
    "    from\n",
    "        supplier\n",
    "    where\n",
    "            s_comment like '%Customer%Complaints%'\n",
    ")\n",
    "group by\n",
    "    p_brand,\n",
    "    p_type,\n",
    "    p_size\n",
    "order by\n",
    "    supplier_cnt desc,\n",
    "    p_brand,\n",
    "    p_type,\n",
    "    p_size;\n",
    "\"\"\""
   ]
  },
  {
   "cell_type": "code",
   "execution_count": null,
   "metadata": {},
   "outputs": [],
   "source": [
    "ctx.sql(sqlA).collect()"
   ]
  },
  {
   "cell_type": "code",
   "execution_count": null,
   "metadata": {},
   "outputs": [],
   "source": [
    "sqlB = \"\"\"\n",
    "SELECT\n",
    "  p_brand,\n",
    "  p_type,\n",
    "  p_size,\n",
    "  COUNT(DISTINCT ps_suppkey) AS supplier_cnt\n",
    "FROM partsupp, part\n",
    "WHERE\n",
    "  p_partkey = ps_partkey\n",
    "  AND p_brand <> 'Brand#45'\n",
    "  AND NOT p_type LIKE 'MEDIUM POLISHED%'\n",
    "  AND p_size IN (49, 14, 23, 45, 19, 3, 36, 9)\n",
    "  AND NOT ps_suppkey IN (\n",
    "    SELECT\n",
    "      s_suppkey\n",
    "    FROM supplier\n",
    "    WHERE\n",
    "      s_comment LIKE '%Customer%Complaints%'\n",
    "  )\n",
    "GROUP BY\n",
    "  p_brand,\n",
    "  p_type,\n",
    "  p_size\n",
    "ORDER BY\n",
    "  supplier_cnt DESC NULLS LAST,\n",
    "  p_brand,\n",
    "  p_type,\n",
    "  p_size;\n",
    "\"\"\""
   ]
  },
  {
   "cell_type": "code",
   "execution_count": null,
   "metadata": {},
   "outputs": [],
   "source": [
    "ctx.sql(sqlB).collect()"
   ]
  },
  {
   "cell_type": "code",
   "execution_count": null,
   "metadata": {},
   "outputs": [],
   "source": []
  }
 ],
 "metadata": {
  "kernelspec": {
   "display_name": "venv",
   "language": "python",
   "name": "python3"
  },
  "language_info": {
   "codemirror_mode": {
    "name": "ipython",
    "version": 3
   },
   "file_extension": ".py",
   "mimetype": "text/x-python",
   "name": "python",
   "nbconvert_exporter": "python",
   "pygments_lexer": "ipython3",
   "version": "3.11.8"
  }
 },
 "nbformat": 4,
 "nbformat_minor": 2
}
