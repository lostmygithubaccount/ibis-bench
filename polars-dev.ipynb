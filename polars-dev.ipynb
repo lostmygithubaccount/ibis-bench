{
 "cells": [
  {
   "cell_type": "markdown",
   "metadata": {},
   "source": [
    "original Polars TPC-H code: https://github.com/pola-rs/tpch"
   ]
  },
  {
   "cell_type": "code",
   "execution_count": null,
   "metadata": {},
   "outputs": [],
   "source": [
    "import uuid\n",
    "import polars as pl\n",
    "\n",
    "from ibis_bench.utils.monitor import monitor_it\n",
    "from ibis_bench.utils.read_data import get_polars_tables\n",
    "\n",
    "from ibis_bench.queries.polars import *  # noqa"
   ]
  },
  {
   "cell_type": "code",
   "execution_count": null,
   "metadata": {},
   "outputs": [],
   "source": [
    "# YOLO\n",
    "import warnings\n",
    "\n",
    "warnings.filterwarnings(\"ignore\")"
   ]
  },
  {
   "cell_type": "code",
   "execution_count": null,
   "metadata": {},
   "outputs": [],
   "source": [
    "sf = 1\n",
    "n_partitions = 1\n",
    "lazy = True\n",
    "streaming = False\n",
    "\n",
    "customer, lineitem, nation, orders, part, partsupp, region, supplier = (\n",
    "    get_polars_tables(sf=sf, n_partitions=n_partitions, lazy=lazy)\n",
    ")"
   ]
  },
  {
   "cell_type": "code",
   "execution_count": null,
   "metadata": {},
   "outputs": [],
   "source": [
    "monitor_it(\n",
    "    q1,\n",
    "    sf=sf,\n",
    "    n_partitions=n_partitions,\n",
    "    query_number=1,\n",
    "    system=\"polars\" + \"-lazy\"\n",
    "    if lazy\n",
    "    else \"-eager\" + \"-streaming\"\n",
    "    if streaming\n",
    "    else \"-batch\",\n",
    "    session_id=str(uuid.uuid4()),\n",
    "    lineitem=lineitem,\n",
    ")"
   ]
  },
  {
   "cell_type": "code",
   "execution_count": null,
   "metadata": {},
   "outputs": [],
   "source": [
    "monitor_it(\n",
    "    q2,\n",
    "    sf=sf,\n",
    "    n_partitions=n_partitions,\n",
    "    query_number=2,\n",
    "    system=\"polars\" + \"-lazy\"\n",
    "    if lazy\n",
    "    else \"-eager\" + \"-streaming\"\n",
    "    if streaming\n",
    "    else \"-batch\",\n",
    "    session_id=str(uuid.uuid4()),\n",
    "    nation=nation,\n",
    "    part=part,\n",
    "    partsupp=partsupp,\n",
    "    region=region,\n",
    "    supplier=supplier,\n",
    ")"
   ]
  },
  {
   "cell_type": "code",
   "execution_count": null,
   "metadata": {},
   "outputs": [],
   "source": []
  }
 ],
 "metadata": {
  "kernelspec": {
   "display_name": "venv",
   "language": "python",
   "name": "python3"
  },
  "language_info": {
   "codemirror_mode": {
    "name": "ipython",
    "version": 3
   },
   "file_extension": ".py",
   "mimetype": "text/x-python",
   "name": "python",
   "nbconvert_exporter": "python",
   "pygments_lexer": "ipython3",
   "version": "3.11.8"
  }
 },
 "nbformat": 4,
 "nbformat_minor": 2
}
