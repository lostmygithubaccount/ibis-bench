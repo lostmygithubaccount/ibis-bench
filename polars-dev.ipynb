{
 "cells": [
  {
   "cell_type": "code",
   "execution_count": null,
   "metadata": {},
   "outputs": [],
   "source": [
    "import os\n",
    "import polars as pl\n",
    "\n",
    "from ibis_bench.tpch.queries.polars import *  # noqa\n",
    "from ibis_bench.tpch.utils.read_data import get_polars_tables"
   ]
  },
  {
   "cell_type": "code",
   "execution_count": null,
   "metadata": {},
   "outputs": [],
   "source": [
    "# https://github.com/pola-rs/polars/issues/4104#issuecomment-1484830343\n",
    "pl.Config.activate_decimals()\n",
    "\n",
    "# TODO: remove after Polars v1.0.0\n",
    "os.environ[\"POLARS_ACTIVATE_DECIMAL\"] = (\n",
    "    \"1\"  # https://github.com/pola-rs/polars/issues/16603#issuecomment-2141701041\n",
    ")"
   ]
  },
  {
   "cell_type": "code",
   "execution_count": null,
   "metadata": {},
   "outputs": [],
   "source": [
    "sf = 1\n",
    "n_partitions = 1\n",
    "csv = False\n",
    "lazy = True\n",
    "streaming = False\n",
    "\n",
    "customer, lineitem, nation, orders, part, partsupp, region, supplier = (\n",
    "    get_polars_tables(sf=sf, n_partitions=n_partitions, lazy=lazy)\n",
    ")"
   ]
  },
  {
   "cell_type": "code",
   "execution_count": null,
   "metadata": {},
   "outputs": [],
   "source": [
    "customer.limit(5).collect()"
   ]
  },
  {
   "cell_type": "code",
   "execution_count": null,
   "metadata": {},
   "outputs": [],
   "source": [
    "customer.select(pl.col(\"c_acctbal\").round(1)).limit(5).collect()"
   ]
  },
  {
   "cell_type": "code",
   "execution_count": null,
   "metadata": {},
   "outputs": [],
   "source": [
    "customer.select(\"c_acctbal\").collect()[\"c_acctbal\"].dtype"
   ]
  },
  {
   "cell_type": "code",
   "execution_count": null,
   "metadata": {},
   "outputs": [],
   "source": [
    "# failing: 6, 8-11, 15, 19, 22\n",
    "res = q8(\n",
    "    customer=customer,\n",
    "    nation=nation,\n",
    "    lineitem=lineitem,\n",
    "    orders=orders,\n",
    "    region=region,\n",
    "    part=part,\n",
    "    partsupp=partsupp,\n",
    "    supplier=supplier,\n",
    ")\n",
    "res.collect(streaming=streaming)"
   ]
  },
  {
   "cell_type": "code",
   "execution_count": null,
   "metadata": {},
   "outputs": [],
   "source": [
    "res.schema"
   ]
  },
  {
   "cell_type": "code",
   "execution_count": null,
   "metadata": {},
   "outputs": [],
   "source": [
    "import os\n",
    "import ibis\n",
    "import polars as pl\n",
    "\n",
    "os.environ[\"POLARS_VERBOSE\"] = \"1\""
   ]
  },
  {
   "cell_type": "code",
   "execution_count": null,
   "metadata": {},
   "outputs": [],
   "source": [
    "con = ibis.get_backend()\n",
    "con.raw_sql(\"call dbgen(sf=1)\")\n",
    "\n",
    "for table in con.list_tables():\n",
    "    con.table(table).to_parquet(f\"{table}.parquet\")"
   ]
  },
  {
   "cell_type": "code",
   "execution_count": null,
   "metadata": {},
   "outputs": [],
   "source": [
    "# https://github.com/pola-rs/polars/issues/4104#issuecomment-1484830343\n",
    "pl.Config.activate_decimals()\n",
    "\n",
    "# TODO: remove after Polars v1.0.0\n",
    "# os.environ[\"POLARS_ACTIVATE_DECIMAL\"] = (\n",
    "#     \"1\"  # https://github.com/pola-rs/polars/issues/16603#issuecomment-2141701041\n",
    "# )"
   ]
  },
  {
   "cell_type": "code",
   "execution_count": null,
   "metadata": {},
   "outputs": [],
   "source": [
    "from datetime import date\n",
    "\n",
    "\n",
    "def q8(\n",
    "    customer,\n",
    "    lineitem,\n",
    "    nation,\n",
    "    orders,\n",
    "    part,\n",
    "    region,\n",
    "    supplier,\n",
    "    **kwargs,\n",
    "):\n",
    "    var1 = \"BRAZIL\"\n",
    "    var2 = \"AMERICA\"\n",
    "    var3 = \"ECONOMY ANODIZED STEEL\"\n",
    "    var4 = date(1995, 1, 1)\n",
    "    var5 = date(1996, 12, 31)\n",
    "\n",
    "    n1 = nation.select(\"n_nationkey\", \"n_regionkey\")\n",
    "    n2 = nation.select(\"n_nationkey\", \"n_name\")\n",
    "\n",
    "    q_final = (\n",
    "        part.join(lineitem, left_on=\"p_partkey\", right_on=\"l_partkey\")\n",
    "        .join(supplier, left_on=\"l_suppkey\", right_on=\"s_suppkey\")\n",
    "        .join(orders, left_on=\"l_orderkey\", right_on=\"o_orderkey\")\n",
    "        .join(customer, left_on=\"o_custkey\", right_on=\"c_custkey\")\n",
    "        .join(n1, left_on=\"c_nationkey\", right_on=\"n_nationkey\")\n",
    "        .join(region, left_on=\"n_regionkey\", right_on=\"r_regionkey\")\n",
    "        .filter(pl.col(\"r_name\") == var2)\n",
    "        .join(n2, left_on=\"s_nationkey\", right_on=\"n_nationkey\")\n",
    "        .filter(pl.col(\"o_orderdate\").is_between(var4, var5))\n",
    "        .filter(pl.col(\"p_type\") == var3)\n",
    "        .select(\n",
    "            pl.col(\"o_orderdate\").dt.year().alias(\"o_year\"),\n",
    "            (pl.col(\"l_extendedprice\") * (1 - pl.col(\"l_discount\"))).alias(\"volume\"),\n",
    "            pl.col(\"n_name\").alias(\"nation\"),\n",
    "        )\n",
    "        .with_columns(\n",
    "            pl.when(pl.col(\"nation\") == var1)\n",
    "            .then(pl.col(\"volume\"))\n",
    "            .otherwise(0)\n",
    "            .alias(\"_tmp\")\n",
    "        )\n",
    "        .group_by(\"o_year\")\n",
    "        .agg((pl.sum(\"_tmp\") / pl.sum(\"volume\")).round(2).alias(\"mkt_share\"))\n",
    "        .sort(\"o_year\")\n",
    "    )\n",
    "\n",
    "    return q_final"
   ]
  },
  {
   "cell_type": "code",
   "execution_count": null,
   "metadata": {},
   "outputs": [],
   "source": [
    "res = q8(\n",
    "    customer=pl.scan_parquet(\"customer.parquet\"),\n",
    "    lineitem=pl.scan_parquet(\"lineitem.parquet\"),\n",
    "    nation=pl.scan_parquet(\"nation.parquet\"),\n",
    "    orders=pl.scan_parquet(\"orders.parquet\"),\n",
    "    part=pl.scan_parquet(\"part.parquet\"),\n",
    "    region=pl.scan_parquet(\"region.parquet\"),\n",
    "    supplier=pl.scan_parquet(\"supplier.parquet\"),\n",
    ")\n",
    "res.collect()"
   ]
  },
  {
   "cell_type": "code",
   "execution_count": null,
   "metadata": {},
   "outputs": [],
   "source": [
    "pl.show_versions()"
   ]
  },
  {
   "cell_type": "code",
   "execution_count": null,
   "metadata": {},
   "outputs": [],
   "source": []
  }
 ],
 "metadata": {
  "kernelspec": {
   "display_name": "venv",
   "language": "python",
   "name": "python3"
  },
  "language_info": {
   "codemirror_mode": {
    "name": "ipython",
    "version": 3
   },
   "file_extension": ".py",
   "mimetype": "text/x-python",
   "name": "python",
   "nbconvert_exporter": "python",
   "pygments_lexer": "ipython3",
   "version": "3.11.8"
  }
 },
 "nbformat": 4,
 "nbformat_minor": 2
}
