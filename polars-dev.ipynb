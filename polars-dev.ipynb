{
 "cells": [
  {
   "cell_type": "code",
   "execution_count": null,
   "metadata": {},
   "outputs": [],
   "source": [
    "import polars as pl\n",
    "\n",
    "from ibis_bench.queries.polars import *  # noqa\n",
    "from ibis_bench.utils.read_data import get_polars_tables"
   ]
  },
  {
   "cell_type": "code",
   "execution_count": null,
   "metadata": {},
   "outputs": [],
   "source": [
    "sf = 1\n",
    "n_partitions = 1\n",
    "csv = False\n",
    "lazy = True\n",
    "streaming = False\n",
    "\n",
    "customer, lineitem, nation, orders, part, partsupp, region, supplier = (\n",
    "    get_polars_tables(sf=sf, n_partitions=n_partitions, lazy=lazy)\n",
    ")"
   ]
  },
  {
   "cell_type": "code",
   "execution_count": null,
   "metadata": {},
   "outputs": [],
   "source": [
    "res = q21(\n",
    "    customer=customer,\n",
    "    nation=nation,\n",
    "    lineitem=lineitem,\n",
    "    orders=orders,\n",
    "    part=part,\n",
    "    partsupp=partsupp,\n",
    "    supplier=supplier,\n",
    ")\n",
    "res.collect(streaming=streaming)"
   ]
  },
  {
   "cell_type": "code",
   "execution_count": null,
   "metadata": {},
   "outputs": [],
   "source": [
    "res.schema"
   ]
  },
  {
   "cell_type": "code",
   "execution_count": null,
   "metadata": {},
   "outputs": [],
   "source": []
  }
 ],
 "metadata": {
  "kernelspec": {
   "display_name": "venv",
   "language": "python",
   "name": "python3"
  },
  "language_info": {
   "codemirror_mode": {
    "name": "ipython",
    "version": 3
   },
   "file_extension": ".py",
   "mimetype": "text/x-python",
   "name": "python",
   "nbconvert_exporter": "python",
   "pygments_lexer": "ipython3",
   "version": "3.11.8"
  }
 },
 "nbformat": 4,
 "nbformat_minor": 2
}
