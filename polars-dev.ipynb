{
 "cells": [
  {
   "cell_type": "code",
   "execution_count": null,
   "metadata": {},
   "outputs": [],
   "source": [
    "import os\n",
    "import polars as pl\n",
    "\n",
    "from ibis_bench.queries.polars import *  # noqa\n",
    "from ibis_bench.utils.read_data import get_polars_tables"
   ]
  },
  {
   "cell_type": "code",
   "execution_count": null,
   "metadata": {},
   "outputs": [],
   "source": [
    "# https://github.com/pola-rs/polars/issues/4104#issuecomment-1484830343\n",
    "pl.Config.activate_decimals()\n",
    "\n",
    "# TODO: remove after Polars v1.0.0\n",
    "os.environ[\"POLARS_ACTIVATE_DECIMAL\"] = (\n",
    "    \"1\"  # https://github.com/pola-rs/polars/issues/16603#issuecomment-2141701041\n",
    ")"
   ]
  },
  {
   "cell_type": "code",
   "execution_count": null,
   "metadata": {},
   "outputs": [],
   "source": [
    "sf = 1\n",
    "n_partitions = 1\n",
    "csv = False\n",
    "lazy = True\n",
    "streaming = False\n",
    "\n",
    "customer, lineitem, nation, orders, part, partsupp, region, supplier = (\n",
    "    get_polars_tables(\n",
    "        sf=sf, n_partitions=n_partitions, lazy=lazy\n",
    "    )\n",
    ")"
   ]
  },
  {
   "cell_type": "code",
   "execution_count": null,
   "metadata": {},
   "outputs": [],
   "source": [
    "# failing: 6, 8-11, 15, 19, 22\n",
    "res = q8(\n",
    "    customer=customer,\n",
    "    nation=nation,\n",
    "    lineitem=lineitem,\n",
    "    orders=orders,\n",
    "    region=region,\n",
    "    part=part,\n",
    "    partsupp=partsupp,\n",
    "    supplier=supplier,\n",
    ")\n",
    "res.collect(streaming=streaming)"
   ]
  },
  {
   "cell_type": "code",
   "execution_count": null,
   "metadata": {},
   "outputs": [],
   "source": [
    "res.schema"
   ]
  },
  {
   "cell_type": "code",
   "execution_count": 1,
   "metadata": {},
   "outputs": [],
   "source": [
    "import os\n",
    "import ibis\n",
    "import polars as pl\n",
    "\n",
    "os.environ[\"POLARS_VERBOSE\"] = \"1\""
   ]
  },
  {
   "cell_type": "code",
   "execution_count": 2,
   "metadata": {},
   "outputs": [],
   "source": [
    "con = ibis.get_backend()\n",
    "con.raw_sql(\"call dbgen(sf=1)\")\n",
    "\n",
    "for table in con.list_tables():\n",
    "    con.table(table).to_parquet(f\"{table}.parquet\")"
   ]
  },
  {
   "cell_type": "code",
   "execution_count": 7,
   "metadata": {},
   "outputs": [
    {
     "data": {
      "text/plain": [
       "polars.config.Config"
      ]
     },
     "execution_count": 7,
     "metadata": {},
     "output_type": "execute_result"
    }
   ],
   "source": [
    "# https://github.com/pola-rs/polars/issues/4104#issuecomment-1484830343\n",
    "pl.Config.activate_decimals()\n",
    "\n",
    "# TODO: remove after Polars v1.0.0\n",
    "# os.environ[\"POLARS_ACTIVATE_DECIMAL\"] = (\n",
    "#     \"1\"  # https://github.com/pola-rs/polars/issues/16603#issuecomment-2141701041\n",
    "# )"
   ]
  },
  {
   "cell_type": "code",
   "execution_count": 8,
   "metadata": {},
   "outputs": [],
   "source": [
    "from datetime import date\n",
    "\n",
    "def q8(\n",
    "    customer,\n",
    "    lineitem,\n",
    "    nation,\n",
    "    orders,\n",
    "    part,\n",
    "    region,\n",
    "    supplier,\n",
    "    **kwargs,\n",
    "):\n",
    "    var1 = \"BRAZIL\"\n",
    "    var2 = \"AMERICA\"\n",
    "    var3 = \"ECONOMY ANODIZED STEEL\"\n",
    "    var4 = date(1995, 1, 1)\n",
    "    var5 = date(1996, 12, 31)\n",
    "\n",
    "    n1 = nation.select(\"n_nationkey\", \"n_regionkey\")\n",
    "    n2 = nation.select(\"n_nationkey\", \"n_name\")\n",
    "\n",
    "    q_final = (\n",
    "        part.join(lineitem, left_on=\"p_partkey\", right_on=\"l_partkey\")\n",
    "        .join(supplier, left_on=\"l_suppkey\", right_on=\"s_suppkey\")\n",
    "        .join(orders, left_on=\"l_orderkey\", right_on=\"o_orderkey\")\n",
    "        .join(customer, left_on=\"o_custkey\", right_on=\"c_custkey\")\n",
    "        .join(n1, left_on=\"c_nationkey\", right_on=\"n_nationkey\")\n",
    "        .join(region, left_on=\"n_regionkey\", right_on=\"r_regionkey\")\n",
    "        .filter(pl.col(\"r_name\") == var2)\n",
    "        .join(n2, left_on=\"s_nationkey\", right_on=\"n_nationkey\")\n",
    "        .filter(pl.col(\"o_orderdate\").is_between(var4, var5))\n",
    "        .filter(pl.col(\"p_type\") == var3)\n",
    "        .select(\n",
    "            pl.col(\"o_orderdate\").dt.year().alias(\"o_year\"),\n",
    "            (pl.col(\"l_extendedprice\") * (1 - pl.col(\"l_discount\"))).alias(\"volume\"),\n",
    "            pl.col(\"n_name\").alias(\"nation\"),\n",
    "        )\n",
    "        .with_columns(\n",
    "            pl.when(pl.col(\"nation\") == var1)\n",
    "            .then(pl.col(\"volume\"))\n",
    "            .otherwise(0)\n",
    "            .alias(\"_tmp\")\n",
    "        )\n",
    "        .group_by(\"o_year\")\n",
    "        .agg((pl.sum(\"_tmp\") / pl.sum(\"volume\")).round(2).alias(\"mkt_share\"))\n",
    "        .sort(\"o_year\")\n",
    "    )\n",
    "\n",
    "    return q_final"
   ]
  },
  {
   "cell_type": "code",
   "execution_count": 9,
   "metadata": {},
   "outputs": [
    {
     "name": "stderr",
     "output_type": "stream",
     "text": [
      "found multiple sources; run comm_subplan_elim\n",
      "keys/aggregates are not partitionable: running default HASH AGGREGATION\n",
      "join parallel: false\n",
      "join parallel: false\n",
      "join parallel: false\n",
      "join parallel: false\n",
      "join parallel: false\n",
      "join parallel: false\n",
      "join parallel: false\n",
      "parquet file must be read, statistics not sufficient for predicate.\n",
      "parquet file must be read, statistics not sufficient for predicate.\n",
      "INNER join dataframes finished\n",
      "INNER join dataframes finished\n",
      "parquet file must be read, statistics not sufficient for predicate.\n",
      "parquet file must be read, statistics not sufficient for predicate.\n",
      "parquet file must be read, statistics not sufficient for predicate.\n",
      "parquet file must be read, statistics not sufficient for predicate.\n",
      "parquet file must be read, statistics not sufficient for predicate.\n",
      "parquet file must be read, statistics not sufficient for predicate.\n",
      "parquet file must be read, statistics not sufficient for predicate.\n",
      "parquet file must be read, statistics not sufficient for predicate.\n",
      "parquet file must be read, statistics not sufficient for predicate.\n",
      "parquet file must be read, statistics not sufficient for predicate.\n",
      "parquet file must be read, statistics not sufficient for predicate.\n",
      "parquet file must be read, statistics not sufficient for predicate.\n",
      "parquet file must be read, statistics not sufficient for predicate.\n",
      "INNER join dataframes finished\n",
      "INNER join dataframes finished\n",
      "CACHE SET: cache id: 0\n",
      "INNER join dataframes finished\n",
      "parquet file must be read, statistics not sufficient for predicate.\n",
      "INNER join dataframes finished\n",
      "CACHE HIT: cache id: 0\n",
      "INNER join dataframes finished\n"
     ]
    },
    {
     "ename": "InvalidOperationError",
     "evalue": "`round` operation not supported for dtype `decimal[*,8]`",
     "output_type": "error",
     "traceback": [
      "\u001b[0;31m---------------------------------------------------------------------------\u001b[0m",
      "\u001b[0;31mInvalidOperationError\u001b[0m                     Traceback (most recent call last)",
      "Cell \u001b[0;32mIn[9], line 10\u001b[0m\n\u001b[1;32m      1\u001b[0m res \u001b[38;5;241m=\u001b[39m q8(\n\u001b[1;32m      2\u001b[0m     customer\u001b[38;5;241m=\u001b[39mpl\u001b[38;5;241m.\u001b[39mscan_parquet(\u001b[38;5;124m\"\u001b[39m\u001b[38;5;124mcustomer.parquet\u001b[39m\u001b[38;5;124m\"\u001b[39m),\n\u001b[1;32m      3\u001b[0m     lineitem\u001b[38;5;241m=\u001b[39mpl\u001b[38;5;241m.\u001b[39mscan_parquet(\u001b[38;5;124m\"\u001b[39m\u001b[38;5;124mlineitem.parquet\u001b[39m\u001b[38;5;124m\"\u001b[39m),\n\u001b[0;32m   (...)\u001b[0m\n\u001b[1;32m      8\u001b[0m     supplier\u001b[38;5;241m=\u001b[39mpl\u001b[38;5;241m.\u001b[39mscan_parquet(\u001b[38;5;124m\"\u001b[39m\u001b[38;5;124msupplier.parquet\u001b[39m\u001b[38;5;124m\"\u001b[39m),\n\u001b[1;32m      9\u001b[0m )\n\u001b[0;32m---> 10\u001b[0m \u001b[43mres\u001b[49m\u001b[38;5;241;43m.\u001b[39;49m\u001b[43mcollect\u001b[49m\u001b[43m(\u001b[49m\u001b[43m)\u001b[49m\n",
      "File \u001b[0;32m~/repos/ibis-bench/venv/lib/python3.11/site-packages/polars/lazyframe/frame.py:1967\u001b[0m, in \u001b[0;36mLazyFrame.collect\u001b[0;34m(self, type_coercion, predicate_pushdown, projection_pushdown, simplify_expression, slice_pushdown, comm_subplan_elim, comm_subexpr_elim, cluster_with_columns, no_optimization, streaming, background, _eager, **_kwargs)\u001b[0m\n\u001b[1;32m   1964\u001b[0m \u001b[38;5;66;03m# Only for testing purposes atm.\u001b[39;00m\n\u001b[1;32m   1965\u001b[0m callback \u001b[38;5;241m=\u001b[39m _kwargs\u001b[38;5;241m.\u001b[39mget(\u001b[38;5;124m\"\u001b[39m\u001b[38;5;124mpost_opt_callback\u001b[39m\u001b[38;5;124m\"\u001b[39m)\n\u001b[0;32m-> 1967\u001b[0m \u001b[38;5;28;01mreturn\u001b[39;00m wrap_df(\u001b[43mldf\u001b[49m\u001b[38;5;241;43m.\u001b[39;49m\u001b[43mcollect\u001b[49m\u001b[43m(\u001b[49m\u001b[43mcallback\u001b[49m\u001b[43m)\u001b[49m)\n",
      "\u001b[0;31mInvalidOperationError\u001b[0m: `round` operation not supported for dtype `decimal[*,8]`"
     ]
    }
   ],
   "source": [
    "res = q8(\n",
    "    customer=pl.scan_parquet(\"customer.parquet\"),\n",
    "    lineitem=pl.scan_parquet(\"lineitem.parquet\"),\n",
    "    nation=pl.scan_parquet(\"nation.parquet\"),\n",
    "    orders=pl.scan_parquet(\"orders.parquet\"),\n",
    "    part=pl.scan_parquet(\"part.parquet\"),\n",
    "    region=pl.scan_parquet(\"region.parquet\"),\n",
    "    supplier=pl.scan_parquet(\"supplier.parquet\"),\n",
    ")\n",
    "res.collect()"
   ]
  },
  {
   "cell_type": "code",
   "execution_count": 10,
   "metadata": {},
   "outputs": [
    {
     "name": "stdout",
     "output_type": "stream",
     "text": [
      "--------Version info---------\n",
      "Polars:               0.20.31\n",
      "Index type:           UInt32\n",
      "Platform:             macOS-14.5-arm64-arm-64bit\n",
      "Python:               3.11.8 (main, Feb 20 2024, 20:00:15) [Clang 14.0.3 (clang-1403.0.22.14.1)]\n",
      "\n",
      "----Optional dependencies----\n",
      "adbc_driver_manager:  <not installed>\n",
      "cloudpickle:          <not installed>\n",
      "connectorx:           <not installed>\n",
      "deltalake:            <not installed>\n",
      "fastexcel:            <not installed>\n",
      "fsspec:               2024.5.0\n",
      "gevent:               <not installed>\n",
      "hvplot:               <not installed>\n",
      "matplotlib:           <not installed>\n",
      "nest_asyncio:         1.6.0\n",
      "numpy:                1.26.4\n",
      "openpyxl:             <not installed>\n",
      "pandas:               1.5.3\n",
      "pyarrow:              16.1.0\n",
      "pydantic:             <not installed>\n",
      "pyiceberg:            <not installed>\n",
      "pyxlsb:               <not installed>\n",
      "sqlalchemy:           <not installed>\n",
      "torch:                <not installed>\n",
      "xlsx2csv:             <not installed>\n",
      "xlsxwriter:           <not installed>\n"
     ]
    }
   ],
   "source": [
    "pl.show_versions()"
   ]
  },
  {
   "cell_type": "code",
   "execution_count": null,
   "metadata": {},
   "outputs": [],
   "source": []
  }
 ],
 "metadata": {
  "kernelspec": {
   "display_name": "venv",
   "language": "python",
   "name": "python3"
  },
  "language_info": {
   "codemirror_mode": {
    "name": "ipython",
    "version": 3
   },
   "file_extension": ".py",
   "mimetype": "text/x-python",
   "name": "python",
   "nbconvert_exporter": "python",
   "pygments_lexer": "ipython3",
   "version": "3.11.8"
  }
 },
 "nbformat": 4,
 "nbformat_minor": 2
}
