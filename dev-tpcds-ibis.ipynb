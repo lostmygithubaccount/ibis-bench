{
 "cells": [
  {
   "cell_type": "code",
   "execution_count": 1,
   "metadata": {},
   "outputs": [],
   "source": [
    "import ibis\n",
    "\n",
    "from ibis_bench.tpcds.queries.ibis import *  # noqa\n",
    "from ibis_bench.tpcds.utils.read_data import get_ibis_tables"
   ]
  },
  {
   "cell_type": "code",
   "execution_count": 2,
   "metadata": {},
   "outputs": [],
   "source": [
    "ibis.options.interactive = True"
   ]
  },
  {
   "cell_type": "code",
   "execution_count": 3,
   "metadata": {},
   "outputs": [],
   "source": [
    "backend = \"duckdb\"\n",
    "con = ibis.connect(f\"{backend}://\")"
   ]
  },
  {
   "cell_type": "code",
   "execution_count": 11,
   "metadata": {},
   "outputs": [],
   "source": [
    "sf = 8\n",
    "csv = False\n",
    "\n",
    "all_tables = (\n",
    "    call_center,\n",
    "    catalog_page,\n",
    "    catalog_returns,\n",
    "    catalog_sales,\n",
    "    customer,\n",
    "    customer_address,\n",
    "    customer_demographics,\n",
    "    date_dim,\n",
    "    household_demographics,\n",
    "    income_band,\n",
    "    inventory,\n",
    "    item,\n",
    "    promotion,\n",
    "    reason,\n",
    "    ship_mode,\n",
    "    store,\n",
    "    store_returns,\n",
    "    store_sales,\n",
    "    time_dim,\n",
    "    warehouse,\n",
    "    web_page,\n",
    "    web_returns,\n",
    "    web_sales,\n",
    "    web_site,\n",
    ") = get_ibis_tables(sf=sf, con=con, csv=csv)"
   ]
  },
  {
   "cell_type": "code",
   "execution_count": 14,
   "metadata": {},
   "outputs": [],
   "source": [
    "res = q1(\n",
    "    call_center=call_center,\n",
    "    catalog_page=catalog_page,\n",
    "    catalog_returns=catalog_returns,\n",
    "    catalog_sales=catalog_sales,\n",
    "    customer=customer,\n",
    "    customer_address=customer_address,\n",
    "    customer_demographics=customer_demographics,\n",
    "    date_dim=date_dim,\n",
    "    household_demographics=household_demographics,\n",
    "    income_band=income_band,\n",
    "    inventory=inventory,\n",
    "    item=item,\n",
    "    promotion=promotion,\n",
    "    reason=reason,\n",
    "    ship_mode=ship_mode,\n",
    "    store=store,\n",
    "    store_returns=store_returns,\n",
    "    store_sales=store_sales,\n",
    "    time_dim=time_dim,\n",
    "    warehouse=warehouse,\n",
    "    web_page=web_page,\n",
    "    web_returns=web_returns,\n",
    "    web_sales=web_sales,\n",
    "    web_site=web_site,\n",
    ")\n",
    "res"
   ]
  },
  {
   "cell_type": "code",
   "execution_count": null,
   "metadata": {},
   "outputs": [],
   "source": [
    "res.schema()"
   ]
  },
  {
   "cell_type": "code",
   "execution_count": null,
   "metadata": {},
   "outputs": [],
   "source": [
    "import sqlglot\n",
    "\n",
    "sql = res.compile()\n",
    "sql = sqlglot.transpile(sql, \"datafusion\", \"datafusion\", pretty=True)[0]\n",
    "print(sql)"
   ]
  },
  {
   "cell_type": "code",
   "execution_count": null,
   "metadata": {},
   "outputs": [],
   "source": [
    "res = q21(\n",
    "    customer=customer,\n",
    "    lineitem=lineitem,\n",
    "    nation=nation,\n",
    "    orders=orders,\n",
    "    part=part,\n",
    "    partsupp=partsupp,\n",
    "    region=region,\n",
    "    supplier=supplier,\n",
    ")"
   ]
  },
  {
   "cell_type": "code",
   "execution_count": null,
   "metadata": {},
   "outputs": [],
   "source": [
    "import sqlglot\n",
    "\n",
    "sql = res.compile()\n",
    "sql = sqlglot.transpile(sql, \"datafusion\", \"datafusion\", pretty=True)[0]\n",
    "print(sql)"
   ]
  },
  {
   "cell_type": "code",
   "execution_count": null,
   "metadata": {},
   "outputs": [],
   "source": [
    "res = q22(\n",
    "    customer=customer,\n",
    "    lineitem=lineitem,\n",
    "    nation=nation,\n",
    "    orders=orders,\n",
    "    part=part,\n",
    "    partsupp=partsupp,\n",
    "    region=region,\n",
    "    supplier=supplier,\n",
    ")\n",
    "res"
   ]
  },
  {
   "cell_type": "code",
   "execution_count": null,
   "metadata": {},
   "outputs": [],
   "source": [
    "import sqlglot\n",
    "\n",
    "sql = res.compile()\n",
    "sql = sqlglot.transpile(sql, \"datafusion\", \"datafusion\", pretty=True)[0]\n",
    "print(sql)"
   ]
  },
  {
   "cell_type": "code",
   "execution_count": null,
   "metadata": {},
   "outputs": [],
   "source": []
  }
 ],
 "metadata": {
  "kernelspec": {
   "display_name": "venv",
   "language": "python",
   "name": "python3"
  },
  "language_info": {
   "codemirror_mode": {
    "name": "ipython",
    "version": 3
   },
   "file_extension": ".py",
   "mimetype": "text/x-python",
   "name": "python",
   "nbconvert_exporter": "python",
   "pygments_lexer": "ipython3",
   "version": "3.11.8"
  }
 },
 "nbformat": 4,
 "nbformat_minor": 2
}
